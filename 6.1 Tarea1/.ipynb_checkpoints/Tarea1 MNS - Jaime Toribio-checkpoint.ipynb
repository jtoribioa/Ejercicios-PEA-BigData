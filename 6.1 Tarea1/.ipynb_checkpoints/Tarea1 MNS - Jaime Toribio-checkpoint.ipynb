{
 "cells": [
  {
   "cell_type": "markdown",
   "metadata": {},
   "source": [
    "# Clasificador de Noticias"
   ]
  },
  {
   "cell_type": "markdown",
   "metadata": {},
   "source": [
    "## Tarea Metodos No Supervisados\n",
    "Nombre: Jaime Toribio"
   ]
  },
  {
   "cell_type": "code",
   "execution_count": 1,
   "metadata": {
    "collapsed": true
   },
   "outputs": [],
   "source": [
    "from urllib.request import FancyURLopener\n",
    "from bs4 import BeautifulSoup\n",
    "import pandas as pd\n",
    "import numpy as np"
   ]
  },
  {
   "cell_type": "markdown",
   "metadata": {},
   "source": [
    "# 1. Carga de datos"
   ]
  },
  {
   "cell_type": "markdown",
   "metadata": {},
   "source": [
    "Utilizare scrapping para obtener las noticias con las que vamos a entrenar el modelo. Podria barrer la web de El Comercio pero esta web se actualiza constantenmente. Para obtener un resultado reproducible utilizare una lista de links cuyo contenido servira para entrenar el modelo de clasificación."
   ]
  },
  {
   "cell_type": "code",
   "execution_count": 2,
   "metadata": {},
   "outputs": [
    {
     "name": "stderr",
     "output_type": "stream",
     "text": [
      "/Users/Jaime/anaconda3/lib/python3.6/site-packages/ipykernel_launcher.py:3: DeprecationWarning: MyOpener style of invoking requests is deprecated. Use newer urlopen functions/methods\n",
      "  This is separate from the ipykernel package so we can avoid doing imports until\n"
     ]
    }
   ],
   "source": [
    "class MyOpener(FancyURLopener):\n",
    "    version = 'Mozilla/5.0 (Windows; U; Windows NT 5.1; it; rv:1.8.1.11) Gecko/20071127 Firefox/2.0.0.11'\n",
    "myopener = MyOpener()"
   ]
  },
  {
   "cell_type": "code",
   "execution_count": 3,
   "metadata": {
    "collapsed": true
   },
   "outputs": [],
   "source": [
    "links = pd.read_csv('./Data/links noticias.txt')"
   ]
  },
  {
   "cell_type": "code",
   "execution_count": 4,
   "metadata": {},
   "outputs": [
    {
     "data": {
      "text/html": [
       "<div>\n",
       "<style>\n",
       "    .dataframe thead tr:only-child th {\n",
       "        text-align: right;\n",
       "    }\n",
       "\n",
       "    .dataframe thead th {\n",
       "        text-align: left;\n",
       "    }\n",
       "\n",
       "    .dataframe tbody tr th {\n",
       "        vertical-align: top;\n",
       "    }\n",
       "</style>\n",
       "<table border=\"1\" class=\"dataframe\">\n",
       "  <thead>\n",
       "    <tr style=\"text-align: right;\">\n",
       "      <th></th>\n",
       "      <th>links</th>\n",
       "    </tr>\n",
       "  </thead>\n",
       "  <tbody>\n",
       "    <tr>\n",
       "      <th>0</th>\n",
       "      <td>https://elcomercio.pe/deporte-total/seleccion/...</td>\n",
       "    </tr>\n",
       "    <tr>\n",
       "      <th>1</th>\n",
       "      <td>https://elcomercio.pe/deporte-total/champions-...</td>\n",
       "    </tr>\n",
       "    <tr>\n",
       "      <th>2</th>\n",
       "      <td>https://elcomercio.pe/deporte-total/futbol-per...</td>\n",
       "    </tr>\n",
       "    <tr>\n",
       "      <th>3</th>\n",
       "      <td>https://elcomercio.pe/tecnologia/actualidad/fu...</td>\n",
       "    </tr>\n",
       "    <tr>\n",
       "      <th>4</th>\n",
       "      <td>https://elcomercio.pe/deporte-total/futbol-mun...</td>\n",
       "    </tr>\n",
       "  </tbody>\n",
       "</table>\n",
       "</div>"
      ],
      "text/plain": [
       "                                               links\n",
       "0  https://elcomercio.pe/deporte-total/seleccion/...\n",
       "1  https://elcomercio.pe/deporte-total/champions-...\n",
       "2  https://elcomercio.pe/deporte-total/futbol-per...\n",
       "3  https://elcomercio.pe/tecnologia/actualidad/fu...\n",
       "4  https://elcomercio.pe/deporte-total/futbol-mun..."
      ]
     },
     "execution_count": 4,
     "metadata": {},
     "output_type": "execute_result"
    }
   ],
   "source": [
    "links.head()"
   ]
  },
  {
   "cell_type": "code",
   "execution_count": 5,
   "metadata": {},
   "outputs": [
    {
     "data": {
      "text/plain": [
       "'https://elcomercio.pe/deporte-total/seleccion/paolo-guerrero-brasil-confian-juegue-final-copa-sudamericana-noticia-479074'"
      ]
     },
     "execution_count": 5,
     "metadata": {},
     "output_type": "execute_result"
    }
   ],
   "source": [
    "#validando la carga\n",
    "links['links'][0]"
   ]
  },
  {
   "cell_type": "code",
   "execution_count": 6,
   "metadata": {},
   "outputs": [
    {
     "data": {
      "text/plain": [
       "38"
      ]
     },
     "execution_count": 6,
     "metadata": {},
     "output_type": "execute_result"
    }
   ],
   "source": [
    "#Cantidad de links\n",
    "len(links)"
   ]
  },
  {
   "cell_type": "markdown",
   "metadata": {},
   "source": [
    "## Analizando la estructura del HTML:"
   ]
  },
  {
   "cell_type": "markdown",
   "metadata": {},
   "source": [
    "El contenido real de la noticia se encuentra en los siguientes elementos HTML (objeto-clase):\n",
    "\n",
    "1. Titulo: h1 news-title\n",
    "2. Resumen: h2 news-summary\n",
    "3. Descripción de la foto: p foto-description\n",
    "4. Contenido: p parrafo first-parrafo\n",
    "\n",
    "NOTA:El en caso del comercio antes de empezar el contenido de la noticia esta el nombre del autor, que en realidad viene a ser como una categoria. Por ejem: Deporte Total para deportes. No lo incluiré ya que podria sobreentrenarse el modelo.\n",
    "\n",
    "A continuación ejemplo para 1 link:"
   ]
  },
  {
   "cell_type": "code",
   "execution_count": 7,
   "metadata": {},
   "outputs": [
    {
     "name": "stdout",
     "output_type": "stream",
     "text": [
      "====================================================================================================\n"
     ]
    }
   ],
   "source": [
    "#conexion\n",
    "URL='https://elcomercio.pe/deporte-total/seleccion/paolo-guerrero-brasil-confian-juegue-final-copa-sudamericana-noticia-479074'\n",
    "html=myopener.open(URL).read()\n",
    "soup=BeautifulSoup(html,\"lxml\")\n",
    "\n",
    "print('='*100)"
   ]
  },
  {
   "cell_type": "code",
   "execution_count": 8,
   "metadata": {},
   "outputs": [
    {
     "data": {
      "text/plain": [
       "'Paolo Guerrero: confían en que juegue final de Sudamericana'"
      ]
     },
     "execution_count": 8,
     "metadata": {},
     "output_type": "execute_result"
    }
   ],
   "source": [
    "titulo=soup.find_all('h1',class_='news-title')\n",
    "titulo[0].get_text()"
   ]
  },
  {
   "cell_type": "code",
   "execution_count": 9,
   "metadata": {},
   "outputs": [
    {
     "data": {
      "text/plain": [
       "'A pesar de que la FIFA decidió extender por 10 días más la suspensión a Paolo Guerrero, en Brasil esperan que pueda estar con Flamengo en el partido de vuelta de la final de la Copa Sudamericana'"
      ]
     },
     "execution_count": 9,
     "metadata": {},
     "output_type": "execute_result"
    }
   ],
   "source": [
    "resumen=soup.find_all('h2',class_='news-summary')\n",
    "resumen[0].get_text()\n"
   ]
  },
  {
   "cell_type": "code",
   "execution_count": 10,
   "metadata": {},
   "outputs": [
    {
     "data": {
      "text/plain": [
       "'En Brasil esperan que Paolo Guerrero pueda llegar a jugar alguno de los dos partidos de la final de la Copa Sudamericana entre Flamengo e Independiente. (Foto: AP)'"
      ]
     },
     "execution_count": 10,
     "metadata": {},
     "output_type": "execute_result"
    }
   ],
   "source": [
    "foto_desc=soup.find_all('p',class_='foto-description')\n",
    "foto_desc[0].get_text()"
   ]
  },
  {
   "cell_type": "code",
   "execution_count": 12,
   "metadata": {},
   "outputs": [
    {
     "data": {
      "text/plain": [
       "'En Brasil todavía tienen esperanza de ver a Paolo Guerrero jugar con Flamengo antes de que acabe el año. A pesar de que la FIFA extendió por 10 días más la suspensión provisional al delantero de la selección peruana, el periodista de \"O\\'Globo\", Diogo Dantas, cree que es posible que el jugador llegue al segundo duelo de la final de la Copa Sudamericana contra Independiente de Avellaneda.\"Hay optimismo en Flamengo porque hay una final de Copa Sudamericana el próximo miércoles y todos cuentan con el retorno de Paolo Guerrero. Toda la situación en FIFA, sus abogados salieron muy optimistas. El hecho de no tener problemas con cocaína, el examen capilar, las pruebas son muy consistentes. Hay una posibilidad muy grande que la respuesta sea muy positiva\", afirmó el periodista brasileño a \"RPP\".Y agregó: \"Si un castigo ocurre, el máximo previsto aquí es de 60 días. Ya se cumplieron 30 días de sanción provisoria, volvería en 2018 para jugar la Copa Libertadores con Flamengo\".Como se recuerda, el partido de ida entre Flamengo e Independiente por la final de la Copa Sudamericana se jugará este miércoles en Argentina. Mientras que la vuelta se disputará el próximo 13 de diciembre en el Estadio Maracaná. Paolo Guerrero podría jugar el cotejo definitivo si la FIFA decide no sancionarlo.'"
      ]
     },
     "execution_count": 12,
     "metadata": {},
     "output_type": "execute_result"
    }
   ],
   "source": [
    "lista=soup.find_all('p',class_='parrafo first-parrafo')+soup.find_all('p',class_='parrafo first-parrafo ')\n",
    "contenido = ''\n",
    "for i in range(len(lista)):\n",
    "    contenido = contenido + lista[i].get_text()\n",
    "contenido"
   ]
  },
  {
   "cell_type": "markdown",
   "metadata": {},
   "source": [
    "## Guardando el contenido"
   ]
  },
  {
   "cell_type": "markdown",
   "metadata": {},
   "source": [
    "Vamos a barrer todos los links del archivo y guardarlos en distintos archivos. Uno por cada noticia. Para el entrenamiento del modelo concatenaré todos los archivos. El objetivo de tenerlos en distintos archivos es para luego poder hacer un vector promedio por cada archivo."
   ]
  },
  {
   "cell_type": "code",
   "execution_count": null,
   "metadata": {},
   "outputs": [
    {
     "name": "stdout",
     "output_type": "stream",
     "text": [
      "https://elcomercio.pe/deporte-total/seleccion/paolo-guerrero-brasil-confian-juegue-final-copa-sudamericana-noticia-479074\n",
      "https://elcomercio.pe/deporte-total/champions-league/juventus-vs-olympiacos-vivo-online-grupo-d-champions-league-noticia-479058\n",
      "https://elcomercio.pe/deporte-total/futbol-peruano/alianza-lima-gustavo-zevallos-juntaremos-semana-pablo-bengoechea-noticia-479001\n",
      "https://elcomercio.pe/tecnologia/actualidad/futbol-peruano-club-mejor-hinchada-digital-noticia-479026\n",
      "https://elcomercio.pe/deporte-total/futbol-mundial/barcelona-vs-sporting-lisboa-vivo-online-champions-league-noticia-478842\n",
      "https://elcomercio.pe/deporte-total/futbol-peruano/alianza-lima-vs-real-garcilaso-frases-polemicas-fuera-canchas-noticia-478911\n",
      "https://elcomercio.pe/deporte-total/futbol-mundial/carlo-ancelotti-interesado-dirigir-italia-noticia-478943\n",
      "https://elcomercio.pe/deporte-total/polideportivo/wwe-monday-night-vivo-online-angeles-roman-reigns-vengara-samoa-joe-noticia-478782\n",
      "https://elcomercio.pe/deporte-total/polideportivo/wwe-roman-reigns-pudo-ayudar-the-shield-culpa-samoa-joe-video-noticia-479082\n",
      "https://elcomercio.pe/politica/odebrecht-iccgsa-considera-prision-preventiva-necesaria-noticia-479079\n",
      "https://elcomercio.pe/politica/odebrecht-trasladan-carceleta-socios-interoceanica-noticia-478794\n",
      "https://elcomercio.pe/politica/fiscal-luz-ibanez-elegida-jueza-corte-penal-internacional-noticia-479065\n",
      "https://elcomercio.pe/politica/juan-pari-prision-preventiva-senal-interesante-noticia-479007\n",
      "https://elcomercio.pe/politica/susana-villaran-tuve-encuentro-protocolar-representantes-odebrecht-noticia-478965\n",
      "https://elcomercio.pe/politica/luis-castaneda-seria-justo-me-pronuncie-susana-villaran-noticia-478974\n",
      "https://elcomercio.pe/politica/archivan-pesquisa-marisa-glave-indira-huilca-frase-violadores-noticia-478947\n",
      "https://elcomercio.pe/politica/luis-galarreta-saluda-prision-preventiva-ex-socios-odebrecht-noticia-478961\n",
      "https://elcomercio.pe/politica/odebrecht-juez-concepcion-descarta-haber-actuado-presion-politica-noticia-478869\n",
      "https://elcomercio.pe/economia/negocios/hp-juega-aliarse-arte-reflotar-ventas-navidenas-noticia-479052\n",
      "https://elcomercio.pe/economia/peru/declaran-insolvencia-gasoducto-sur-peruano-noticia-479061\n",
      "https://elcomercio.pe/economia/peru/mtc-invertira-s-200-mlls-noticia-478988\n"
     ]
    }
   ],
   "source": [
    "noticias = []\n",
    "for i in range(len(links)):\n",
    "    print(links['links'][i])\n",
    "    #abre conexion con la web\n",
    "    URL=links['links'][i]\n",
    "    html=myopener.open(URL).read()\n",
    "    soup=BeautifulSoup(html,\"lxml\")\n",
    "\n",
    "    #busca contenido de la noticia\n",
    "    t=soup.find_all('h1',class_='news-title')\n",
    "    r=soup.find_all('h2',class_='news-summary')\n",
    "    f=soup.find_all('p',class_='foto-description')\n",
    "    p=soup.find_all('p',class_='parrafo first-parrafo')+soup.find_all('p',class_='parrafo first-parrafo ')\n",
    "    \n",
    "    #algunas noticias no tienen resumen o descripcion de foto, por ello si no existe asignamos '' a la variable.\n",
    "    titulo = t[0].get_text() if len(t)>0 else ''\n",
    "    resumen = r[0].get_text() if len(r)>0 else ''\n",
    "    foto_desc = f[0].get_text() if len(f)>0 else ''\n",
    "    \n",
    "    contenido = ''\n",
    "    for i in range(len(p)):\n",
    "        contenido = contenido + p[i].get_text()\n",
    "    \n",
    "    #genera la noticia\n",
    "    noticia = [titulo,\n",
    "               resumen,\n",
    "               foto_desc,\n",
    "               contenido]\n",
    "    \n",
    "    #agrega a la lista de noticias\n",
    "    noticias.append(noticia)\n",
    "    \n",
    "\n",
    "df = pd.DataFrame(noticias, columns = ['titulo', 'resumen', 'foto_desc', 'contenido'])\n",
    "\n",
    "#guarda en un archivo delimitado por pipes |\n",
    "#np.savetxt('noticias.txt', df, fmt='%s', delimiter='|', header='titulo|resumen|foto_desc|contenido')\n",
    "    \n",
    "#Muchos problemas con el encoding, por mientras trabajare en memoria.\n",
    "#tuve que usar enconding para poder guardar pero luego para leer era complicado: titulo.encode('utf-8') \n",
    "    "
   ]
  },
  {
   "cell_type": "code",
   "execution_count": 119,
   "metadata": {},
   "outputs": [
    {
     "data": {
      "text/html": [
       "<div>\n",
       "<style>\n",
       "    .dataframe thead tr:only-child th {\n",
       "        text-align: right;\n",
       "    }\n",
       "\n",
       "    .dataframe thead th {\n",
       "        text-align: left;\n",
       "    }\n",
       "\n",
       "    .dataframe tbody tr th {\n",
       "        vertical-align: top;\n",
       "    }\n",
       "</style>\n",
       "<table border=\"1\" class=\"dataframe\">\n",
       "  <thead>\n",
       "    <tr style=\"text-align: right;\">\n",
       "      <th></th>\n",
       "      <th>titulo</th>\n",
       "      <th>resumen</th>\n",
       "      <th>foto_desc</th>\n",
       "      <th>contenido</th>\n",
       "    </tr>\n",
       "  </thead>\n",
       "  <tbody>\n",
       "    <tr>\n",
       "      <th>0</th>\n",
       "      <td>Paolo Guerrero: confían en que juegue final de...</td>\n",
       "      <td>A pesar de que la FIFA decidió extender´por 10...</td>\n",
       "      <td>En Brasil esperan que Paolo Guerrero pueda lle...</td>\n",
       "      <td>En Brasil todavía tienen esperanza de ver a Pa...</td>\n",
       "    </tr>\n",
       "    <tr>\n",
       "      <th>1</th>\n",
       "      <td>Juventus vs. Olympiacos: en Grecia por la Cham...</td>\n",
       "      <td>\\nJuventus visita al Olympiacos este martes (2...</td>\n",
       "      <td>Juventus vs. Olympiacos: se enfrentan este mar...</td>\n",
       "      <td>Juventus visita al Olympiacos este martes (2:4...</td>\n",
       "    </tr>\n",
       "    <tr>\n",
       "      <th>2</th>\n",
       "      <td>Alianza Lima: \"Nos juntaremos esta semana con ...</td>\n",
       "      <td>El gerente deportivo de Alianza Lima, Gustavo ...</td>\n",
       "      <td>En Alianza Lima confían en retener a Pablo Ben...</td>\n",
       "      <td>Gustavo Zevallos, gerente deportivo de Alianza...</td>\n",
       "    </tr>\n",
       "    <tr>\n",
       "      <th>3</th>\n",
       "      <td>¿Qué club de fútbol peruano tiene la mejor hi...</td>\n",
       "      <td>La interacción en redes social como Facebook y...</td>\n",
       "      <td>Los clubes peruanos dan sus últimas noticias m...</td>\n",
       "      <td>Facebook, Instagram y Twitter se han vuelto un...</td>\n",
       "    </tr>\n",
       "    <tr>\n",
       "      <th>4</th>\n",
       "      <td>Barcelona vs. Sporting de Lisboa: juegan por C...</td>\n",
       "      <td>\\nBarcelona recibirá al Sporting de Lisboa est...</td>\n",
       "      <td>El equipo culé recibirá este martes al cuadro ...</td>\n",
       "      <td>Barcelona afronta la sexta y última jornada de...</td>\n",
       "    </tr>\n",
       "  </tbody>\n",
       "</table>\n",
       "</div>"
      ],
      "text/plain": [
       "                                              titulo  \\\n",
       "0  Paolo Guerrero: confían en que juegue final de...   \n",
       "1  Juventus vs. Olympiacos: en Grecia por la Cham...   \n",
       "2  Alianza Lima: \"Nos juntaremos esta semana con ...   \n",
       "3   ¿Qué club de fútbol peruano tiene la mejor hi...   \n",
       "4  Barcelona vs. Sporting de Lisboa: juegan por C...   \n",
       "\n",
       "                                             resumen  \\\n",
       "0  A pesar de que la FIFA decidió extender´por 10...   \n",
       "1  \\nJuventus visita al Olympiacos este martes (2...   \n",
       "2  El gerente deportivo de Alianza Lima, Gustavo ...   \n",
       "3  La interacción en redes social como Facebook y...   \n",
       "4  \\nBarcelona recibirá al Sporting de Lisboa est...   \n",
       "\n",
       "                                           foto_desc  \\\n",
       "0  En Brasil esperan que Paolo Guerrero pueda lle...   \n",
       "1  Juventus vs. Olympiacos: se enfrentan este mar...   \n",
       "2  En Alianza Lima confían en retener a Pablo Ben...   \n",
       "3  Los clubes peruanos dan sus últimas noticias m...   \n",
       "4  El equipo culé recibirá este martes al cuadro ...   \n",
       "\n",
       "                                           contenido  \n",
       "0  En Brasil todavía tienen esperanza de ver a Pa...  \n",
       "1  Juventus visita al Olympiacos este martes (2:4...  \n",
       "2  Gustavo Zevallos, gerente deportivo de Alianza...  \n",
       "3  Facebook, Instagram y Twitter se han vuelto un...  \n",
       "4  Barcelona afronta la sexta y última jornada de...  "
      ]
     },
     "execution_count": 119,
     "metadata": {},
     "output_type": "execute_result"
    }
   ],
   "source": [
    "df.head()"
   ]
  },
  {
   "cell_type": "code",
   "execution_count": 120,
   "metadata": {
    "collapsed": true
   },
   "outputs": [],
   "source": [
    "#noticias_load = pd.read_csv('noticias.txt', delimiter = '|', encoding='utf-8')\n",
    "#noticias_load"
   ]
  },
  {
   "cell_type": "markdown",
   "metadata": {},
   "source": [
    "# 2. Entrenando el modelo word2vec"
   ]
  },
  {
   "cell_type": "code",
   "execution_count": 122,
   "metadata": {
    "collapsed": true
   },
   "outputs": [],
   "source": [
    "from gensim.models import word2vec"
   ]
  },
  {
   "cell_type": "code",
   "execution_count": 141,
   "metadata": {
    "collapsed": true
   },
   "outputs": [],
   "source": [
    "#sentences = word2vec.Text8Corpus('./Data/links noticias.txt')"
   ]
  },
  {
   "cell_type": "code",
   "execution_count": 242,
   "metadata": {
    "collapsed": true
   },
   "outputs": [],
   "source": [
    "dimensiones = 5\n",
    "modelo = word2vec.Word2Vec([s.lower().split() for s in df['contenido']],size=dimensiones,min_count=3)"
   ]
  },
  {
   "cell_type": "code",
   "execution_count": 243,
   "metadata": {
    "scrolled": true
   },
   "outputs": [
    {
     "name": "stdout",
     "output_type": "stream",
     "text": [
      "en\n",
      "brasil\n",
      "todavía\n",
      "tienen\n",
      "de\n",
      "ver\n",
      "a\n",
      "paolo\n",
      "jugar\n",
      "con\n",
      "flamengo\n",
      "antes\n",
      "que\n",
      "el\n",
      "pesar\n",
      "la\n",
      "por\n",
      "10\n",
      "días\n",
      "más\n",
      "al\n",
      "es\n",
      "posible\n",
      "segundo\n",
      "final\n",
      "copa\n",
      "sudamericana\n",
      "contra\n",
      "independiente\n",
      "porque\n",
      "hay\n",
      "una\n",
      "próximo\n",
      "y\n",
      "todos\n",
      "toda\n",
      "sus\n",
      "muy\n",
      "hecho\n",
      "no\n",
      "tener\n",
      "problemas\n",
      "las\n",
      "pruebas\n",
      "son\n",
      "posibilidad\n",
      "respuesta\n",
      "sea\n",
      "afirmó\n",
      "\"si\n",
      "un\n",
      "aquí\n",
      "60\n",
      "ya\n",
      "se\n",
      "2018\n",
      "para\n",
      "partido\n",
      "entre\n",
      "e\n",
      "este\n",
      "mientras\n",
      "diciembre\n",
      "podría\n",
      "si\n",
      "juventus\n",
      "visita\n",
      "olympiacos\n",
      "p.m.\n",
      "online\n",
      "última\n",
      "del\n",
      "grupo\n",
      "champions\n",
      "real\n",
      "primer\n",
      "esta\n",
      "temporada,\n",
      "será\n",
      "pase\n",
      "octavos\n",
      "los\n",
      "como\n",
      "actualmente\n",
      "uno\n",
      "sporting\n",
      "solo\n",
      "-\n",
      "2:45\n",
      "colombia\n",
      "méxico\n",
      "4:45\n",
      "equipo\n",
      "o\n",
      "tres\n",
      "puntos\n",
      "su\n",
      "barcelona\n",
      "camp\n",
      "debido\n",
      "lista\n",
      "técnico\n",
      "sí\n",
      "está\n",
      "problema\n",
      "informó\n",
      "mediante\n",
      "posibles\n",
      "gustavo\n",
      "gerente\n",
      "deportivo\n",
      "alianza\n",
      "lima,\n",
      "aseguró\n",
      "próximos\n",
      "pablo\n",
      "tema\n",
      "objetivo\n",
      "próxima\n",
      "entrenador\n",
      "mucho\n",
      "tiempo\n",
      "valor\n",
      "le\n",
      "duda\n",
      "nos\n",
      "acuerdo\n",
      "semana\n",
      "ese\n",
      "dijo\n",
      "lima\n",
      "zevallos\n",
      "pero\n",
      "algunos\n",
      "resultados\n",
      "sino\n",
      "todo\n",
      "lo\n",
      "cómo\n",
      "va\n",
      "desde\n",
      "gran\n",
      "otro\n",
      "momento\n",
      "versión\n",
      "ello\n",
      "llegar\n",
      "después\n",
      "veremos\n",
      "qué\n",
      "hacer\n",
      "aún\n",
      "cada\n",
      "también\n",
      "teniendo\n",
      "garcilaso\n",
      "cristal\n",
      "mejor\n",
      "victoria\n",
      "fue\n",
      "ante\n",
      "hoy\n",
      "juan\n",
      "facebook,\n",
      "han\n",
      "vuelto\n",
      "nuevo\n",
      "espacio\n",
      "hinchas\n",
      "grandes\n",
      "clubes\n",
      "mundo\n",
      "importantes\n",
      "perú\n",
      "están\n",
      "bien\n",
      "fueron\n",
      "primeros\n",
      "éxito\n",
      "redes\n",
      "material\n",
      "fotos\n",
      "hasta\n",
      "videos\n",
      "ello,\n",
      "consultora\n",
      "hicieron\n",
      "análisis\n",
      "conocer\n",
      "peruano\n",
      "tiene\n",
      "estudio\n",
      "cual\n",
      "facebook\n",
      "primera\n",
      "3\n",
      "compromiso\n",
      "(con\n",
      "peso\n",
      "número\n",
      "publicaciones\n",
      "crecimiento\n",
      "seguidores\n",
      "enero\n",
      "logrado\n",
      "sociales\n",
      "determinó\n",
      "lugar\n",
      "factor\n",
      "sobre\n",
      "viene\n",
      "haciendo\n",
      "sostiene\n",
      "mayor\n",
      "interacción\n",
      "mil\n",
      "sin\n",
      "explica\n",
      "marketing\n",
      "importante\n",
      "menor\n",
      "canal\n",
      "lisboa\n",
      "cuenta\n",
      "sólo\n",
      "caso\n",
      "empate\n",
      "italiano\n",
      "portugués\n",
      "tanto,\n",
      "triunfo,\n",
      "sumar\n",
      "racha\n",
      "tanto\n",
      "liga\n",
      "otra\n",
      "espera\n",
      "presenta\n",
      "cuando\n",
      "ha\n",
      "participación\n",
      "ser\n",
      "fin\n",
      "línea\n",
      "centro\n",
      "donde\n",
      "puedan\n",
      "frente\n",
      "propia\n",
      "siempre\n",
      "último\n",
      "nou\n",
      "dos\n",
      "pasado\n",
      "sorpresa\n",
      "tras\n",
      "triunfo\n",
      "jorge\n",
      "referencia\n",
      "ataque\n",
      "rival\n",
      "ahora\n",
      "quien\n",
      "haber\n",
      "internacional\n",
      "ex\n",
      "hace\n",
      "recibió\n",
      "estos\n",
      "sido\n",
      "luis\n",
      "base\n",
      "mayores\n",
      "guerra\n",
      "pelea\n",
      "debe\n",
      "pues\n",
      "esto\n",
      "respondió\n",
      "puesto\n",
      "me\n",
      "busca\n",
      "principios\n",
      "era\n",
      "presidente\n",
      "creo\n",
      "país\n",
      "nivel\n",
      "medio\n",
      "wwe\n",
      "raw\n",
      "tuvo\n",
      "integrantes\n",
      "the\n",
      "shield.\n",
      "roman\n",
      "reigns,\n",
      "seth\n",
      "rollins\n",
      "dean\n",
      "ambrose\n",
      "samoa\n",
      "reigns\n",
      "'emperador'\n",
      "jason\n",
      "joe,\n",
      "fuerza\n",
      "bajo\n",
      "estaba\n",
      "general\n",
      "embargo,\n",
      "joe\n",
      "kurt\n",
      "otros\n",
      "campeones\n",
      "cesaro\n",
      "sheamus,\n",
      "durante\n",
      "oportunidades\n",
      "momento,\n",
      "acción\n",
      "apareció\n",
      "decidió\n",
      "hizo\n",
      "aparición\n",
      "ayudar\n",
      "vino\n",
      "quienes\n",
      "habían\n",
      "siendo\n",
      "había\n",
      "marca\n",
      "nueva\n",
      "misma\n",
      "compañía\n",
      "puede\n",
      "evento\n",
      "contratistas\n",
      "generales\n",
      "lunes\n",
      "prisión\n",
      "preventiva\n",
      "18\n",
      "meses\n",
      "fernando\n",
      "castillo\n",
      "ejecutivo\n",
      "parte\n",
      "investigaciones\n",
      "hacen\n",
      "tramos\n",
      "2\n",
      "carretera\n",
      "interoceánica\n",
      "odebrecht\n",
      "empresa\n",
      "consideró\n",
      "fiscalía\n",
      "poder\n",
      "existen\n",
      "elementos\n",
      "ministerio\n",
      "determinar\n",
      "través\n",
      "ni\n",
      "proyecto\n",
      "cualquier\n",
      "representantes\n",
      "algún\n",
      "dibós\n",
      "directorio\n",
      "según\n",
      "publicado\n",
      "mercado\n",
      "valores\n",
      "alejandro\n",
      "graña\n",
      "miró\n",
      "quesada\n",
      "(ex\n",
      "montero),\n",
      "hernando\n",
      "acuña\n",
      "director\n",
      "martín\n",
      "gonzalo\n",
      "camet\n",
      "piccone\n",
      "(presidente\n",
      "jj\n",
      "s.a.)\n",
      "josé\n",
      "(director\n",
      "luego\n",
      "judicial\n",
      "cuatro\n",
      "cinco\n",
      "empresarios\n",
      "les\n",
      "activos.\n",
      "miro\n",
      "delito\n",
      "política...\n",
      "audiencia\n",
      "horas\n",
      "unas\n",
      "12\n",
      "penal\n",
      "medida\n",
      "juez\n",
      "richard\n",
      "concepción\n",
      "carhuancho\n",
      "pedido\n",
      "fiscal\n",
      "público\n",
      "ferraro\n",
      "arresto\n",
      "domiciliario\n",
      "clínica\n",
      "corte\n",
      "años\n",
      "sede\n",
      "trata\n",
      "vez\n",
      "historia\n",
      "relaciones\n",
      "países\n",
      "estados\n",
      "perú,\n",
      "mi\n",
      "reconocimiento\n",
      "estado\n",
      "profesionales\n",
      "ella\n",
      "humanos\n",
      "últimos\n",
      "así\n",
      "campaña\n",
      "marco\n",
      "partes\n",
      "personas\n",
      "comisión\n",
      "lava\n",
      "decisión\n",
      "directivos\n",
      "empresas\n",
      "montero,\n",
      "decir\n",
      "nación,\n",
      "haya\n",
      "[...]\n",
      "sistema\n",
      "caso,\n",
      "muchas\n",
      "y,\n",
      "alcaldesa\n",
      "susana\n",
      "villarán\n",
      "informe\n",
      "ve\n",
      "oas\n",
      "congreso\n",
      "tenido\n",
      "firma\n",
      "encuentro\n",
      "ocurre\n",
      "millones\n",
      "conocimiento\n",
      "estas\n",
      "dictó\n",
      "eso\n",
      "declaraciones\n",
      "comercio\n",
      "año,\n",
      "imágenes\n",
      "observa\n",
      "alguna\n",
      "respecto\n",
      "presente\n",
      "investigación\n",
      "congresistas\n",
      "marisa\n",
      "glave\n",
      "indira\n",
      "tendencia\n",
      "realizar\n",
      "resaltó\n",
      "huilca\n",
      "problemática\n",
      "frase\n",
      "fujimorista\n",
      "salazar\n",
      "criticó\n",
      "algunas\n",
      "además,\n",
      "pueden\n",
      "ordenó\n",
      "ii\n",
      "clase\n",
      "decisiones\n",
      "control\n",
      "político\n",
      "que,\n",
      "tan\n",
      "tipo\n",
      "compleja\n",
      "duración\n",
      "manera\n",
      "semestre\n",
      "año\n",
      "2017\n",
      "portátiles\n",
      "caída\n",
      "baja\n",
      "aunque\n",
      "masivo\n",
      "compras\n",
      "categorías\n",
      "tal\n",
      "unidades\n",
      "ventas\n",
      "sector\n",
      "mejores\n",
      "producto\n",
      "algo\n",
      "economía\n",
      "en...\n",
      "realizada\n",
      "proceso\n",
      "noticias\n",
      "estudios\n",
      "proyectos\n",
      "red\n",
      "anunció\n",
      "perfil\n",
      "inversión\n",
      "podrían\n",
      "asociaciones\n",
      "kilómetros\n",
      "transporte\n",
      "pasajeros\n",
      "realizado\n",
      "aumento\n",
      "bitcoin\n",
      "bitcoins\n",
      "uso\n",
      "en…\n",
      "portal\n",
      "trabajo\n",
      "ciencia\n",
      "informalidad\n",
      "desarrollo\n",
      "trabajadores\n",
      "informales\n",
      "ocde\n",
      "menos\n",
      "diversos\n",
      "costos\n",
      "athena\n",
      "cajeros\n",
      "américa\n",
      "latina\n",
      "estima\n",
      "unidos,\n",
      "década,\n",
      "centros\n",
      "comerciales\n",
      "retail\n",
      "incluye\n",
      "ciudad\n",
      "media\n",
      "unidos\n",
      "sigue\n",
      "dice\n",
      "seguridad\n",
      "distintas\n",
      "ejemplo,\n",
      "sean\n",
      "otras\n",
      "social\n",
      "día\n",
      "cabe\n",
      "billetes\n",
      "unidad\n",
      "monetaria\n",
      "contar\n",
      "“deus\n",
      "prótesis\n",
      "forma\n",
      "obstante,\n",
      "nuestros\n",
      "usuarios\n",
      "gusta\n",
      "investigadores\n",
      "hecho,\n",
      "personalidad\n",
      "vida\n",
      "lópez\n",
      "estudio,\n",
      "amigos\n",
      "líneas\n",
      "información\n",
      "ellos\n",
      "clave\n",
      "comportamientos\n",
      "frecuencia\n",
      "tecnología\n",
      "suelo\n",
      "componentes\n",
      "científicos\n",
      "tierra\n",
      "universidad\n",
      "condiciones\n",
      "animales\n",
      "palomas\n",
      "aves\n",
      "capaces\n",
      "primates\n",
      "pantalla\n",
      "sugiere\n",
      "gorilas\n",
      "capacidad\n",
      "trabajo,\n",
      "aprendizaje\n",
      "móviles\n",
      "elemento\n",
      "caro\n",
      "precio\n",
      "modelos\n",
      "móvil\n",
      "autónomos\n",
      "nieve\n",
      "niños\n",
      "messenger\n",
      "kids\n",
      "protección\n"
     ]
    }
   ],
   "source": [
    "for i in modelo.wv.vocab:\n",
    "    print(i)"
   ]
  },
  {
   "cell_type": "code",
   "execution_count": 244,
   "metadata": {},
   "outputs": [
    {
     "data": {
      "text/plain": [
       "array([ 0.00057835,  0.41509077,  0.56186783, -0.40130875,  0.50198841], dtype=float32)"
      ]
     },
     "execution_count": 244,
     "metadata": {},
     "output_type": "execute_result"
    }
   ],
   "source": [
    "modelo[\"durante\"]"
   ]
  },
  {
   "cell_type": "code",
   "execution_count": 245,
   "metadata": {},
   "outputs": [
    {
     "data": {
      "text/plain": [
       "637"
      ]
     },
     "execution_count": 245,
     "metadata": {},
     "output_type": "execute_result"
    }
   ],
   "source": [
    "len(modelo.wv.vocab)"
   ]
  },
  {
   "cell_type": "code",
   "execution_count": 246,
   "metadata": {},
   "outputs": [
    {
     "data": {
      "text/plain": [
       "38"
      ]
     },
     "execution_count": 246,
     "metadata": {},
     "output_type": "execute_result"
    }
   ],
   "source": [
    "vector_noticias = []\n",
    "for i in range(len(df)):\n",
    "    lista = df['contenido'][i].split()\n",
    "    contador_palabras=0\n",
    "    vector = [0 for x in range(dimensiones)]\n",
    "    for j in range(len(lista)):\n",
    "        if lista[j] in modelo.wv.vocab:\n",
    "            contador_palabras+=1\n",
    "            vector+=vector+modelo[lista[j]]\n",
    "    vector = vector/contador_palabras if contador_palabras>0 else vector\n",
    "    vector_noticias.append(vector)\n",
    "#Cantidad de vectores\n",
    "len(vector_noticias)"
   ]
  },
  {
   "cell_type": "code",
   "execution_count": 247,
   "metadata": {},
   "outputs": [
    {
     "data": {
      "text/plain": [
       "[array([ -4.28415930e+33,   2.14534000e+34,   2.76554680e+34,\n",
       "         -1.65568869e+34,   2.81735620e+34]),\n",
       " array([ -6.52713392e+38,   3.16353273e+39,   3.41670430e+39,\n",
       "         -2.67239357e+39,   3.92339099e+39]),\n",
       " array([ -1.71661086e+52,   9.51409460e+52,   1.28733279e+53,\n",
       "         -8.18927525e+52,   1.35109030e+53]),\n",
       " array([ -8.72011122e+69,   4.06728376e+70,   4.72791409e+70,\n",
       "         -3.19407358e+70,   5.46829901e+70]),\n",
       " array([ -8.77447468e+125,   4.77179979e+126,   6.08629361e+126,\n",
       "         -3.95363264e+126,   6.53416912e+126]),\n",
       " array([ -1.36157991e+23,   7.13462678e+23,   8.45274760e+23,\n",
       "         -5.40318251e+23,   9.40677710e+23]),\n",
       " array([ -7.74072766e+32,   3.14832922e+33,   4.15160977e+33,\n",
       "         -2.61033521e+33,   4.31620728e+33]),\n",
       " array([ -3.26568913e+73,   1.17752105e+74,   1.49535751e+74,\n",
       "         -9.82235173e+73,   1.64986570e+74]),\n",
       " array([ -3.80932053e+25,   1.80819346e+26,   2.30209217e+26,\n",
       "         -1.43999802e+26,   2.41533785e+26]),\n",
       " array([ -9.07584582e+51,   4.18142531e+52,   4.99913281e+52,\n",
       "         -3.22809508e+52,   5.66026256e+52]),\n",
       " array([ -7.34953549e+38,   5.04586861e+39,   6.25621748e+39,\n",
       "         -4.02640803e+39,   6.62557781e+39]),\n",
       " array([ -4.78351672e+45,   2.69702945e+46,   3.64677352e+46,\n",
       "         -2.53701867e+46,   4.03348806e+46]),\n",
       " array([ -2.56793190e+50,   1.10499036e+51,   1.40473552e+51,\n",
       "         -9.39614236e+50,   1.59393948e+51]),\n",
       " array([ -1.24892498e+49,   5.72984739e+49,   7.37455183e+49,\n",
       "         -4.75930623e+49,   8.08011785e+49]),\n",
       " array([ -1.12844417e+46,   6.03743384e+46,   7.57419218e+46,\n",
       "         -4.97917477e+46,   8.08768730e+46]),\n",
       " array([ -2.42378105e+54,   1.34938183e+55,   1.69117182e+55,\n",
       "         -1.12649251e+55,   1.80122004e+55]),\n",
       " array([ -1.20664131e+59,   5.28370743e+59,   6.56732827e+59,\n",
       "         -4.33399178e+59,   7.39029556e+59]),\n",
       " array([ -6.59379818e+41,   3.61634287e+42,   4.73657938e+42,\n",
       "         -3.10865600e+42,   5.02611638e+42]),\n",
       " array([ -1.57640909e+77,   7.46945486e+77,   9.73362545e+77,\n",
       "         -6.37220017e+77,   1.04160294e+78]),\n",
       " array([ -5.78334015e+21,   3.30714786e+22,   3.97867837e+22,\n",
       "         -2.59389754e+22,   4.53458488e+22]),\n",
       " array([ -7.31156994e+41,   4.12311567e+42,   5.16708843e+42,\n",
       "         -3.34433956e+42,   5.44550164e+42]),\n",
       " array([ -4.05982347e+34,   2.36101515e+35,   3.00876313e+35,\n",
       "         -1.93560978e+35,   3.08994589e+35]),\n",
       " array([ -3.09510247e+16,   1.73758523e+17,   2.22272980e+17,\n",
       "         -1.49041033e+17,   2.34403019e+17]),\n",
       " array([ -4.39231494e+48,   3.29097687e+49,   3.98617379e+49,\n",
       "         -2.63838651e+49,   4.26459816e+49]),\n",
       " array([ -6.33783149e+27,   3.92496123e+28,   5.04510416e+28,\n",
       "         -3.26487373e+28,   5.25953581e+28]),\n",
       " array([ -5.50947050e+159,   3.05853700e+160,   4.03337224e+160,\n",
       "         -2.64708070e+160,   4.30202377e+160]),\n",
       " array([ -2.64984673e+37,   1.51094272e+38,   1.87862704e+38,\n",
       "         -1.22120437e+38,   2.00038585e+38]),\n",
       " array([ -1.80836037e+35,   1.02492496e+36,   1.32873365e+36,\n",
       "         -8.65064153e+35,   1.39149697e+36]),\n",
       " array([ -2.46615688e+40,   1.47519467e+41,   1.91643984e+41,\n",
       "         -1.29352369e+41,   1.98786980e+41]),\n",
       " array([ -2.12481205e+157,   1.77365410e+158,   2.29200767e+158,\n",
       "         -1.54947795e+158,   2.64324963e+158]),\n",
       " array([ -3.06114411e+61,   2.04056261e+62,   2.54516581e+62,\n",
       "         -1.60781834e+62,   2.70606208e+62]),\n",
       " array([ -7.36525525e+64,   3.90766858e+65,   4.68309659e+65,\n",
       "         -3.50457673e+65,   5.15460913e+65]),\n",
       " array([ -9.42804578e+56,   7.27907405e+57,   1.06800637e+58,\n",
       "         -6.31258438e+57,   1.17496781e+58]),\n",
       " array([ -4.47940589e+88,   2.64642641e+89,   3.17008009e+89,\n",
       "         -2.18648119e+89,   3.71717465e+89]),\n",
       " array([ -1.43621645e+54,   6.76475853e+54,   8.45665996e+54,\n",
       "         -5.91217022e+54,   9.51121958e+54]),\n",
       " array([ -7.46182783e+64,   3.07905515e+65,   3.75919394e+65,\n",
       "         -2.47079653e+65,   4.34396481e+65]),\n",
       " array([ -9.71667853e+41,   3.93614018e+42,   5.29545496e+42,\n",
       "         -3.41554193e+42,   5.58879002e+42]),\n",
       " array([ -1.02571069e+56,   7.20120763e+56,   9.11927140e+56,\n",
       "         -6.07778462e+56,   9.90490844e+56])]"
      ]
     },
     "execution_count": 247,
     "metadata": {},
     "output_type": "execute_result"
    }
   ],
   "source": [
    "vector_noticias"
   ]
  },
  {
   "cell_type": "markdown",
   "metadata": {},
   "source": [
    "# Entrenando el modelo de Kmeans"
   ]
  },
  {
   "cell_type": "markdown",
   "metadata": {},
   "source": [
    "Vamos a entrenar un modelo kmeans que agrupe las 38 noticias en 4 categorias"
   ]
  },
  {
   "cell_type": "code",
   "execution_count": 178,
   "metadata": {
    "collapsed": true
   },
   "outputs": [],
   "source": [
    "from sklearn.cluster import KMeans\n"
   ]
  },
  {
   "cell_type": "code",
   "execution_count": 238,
   "metadata": {},
   "outputs": [
    {
     "name": "stderr",
     "output_type": "stream",
     "text": [
      "/Users/Jaime/anaconda3/lib/python3.6/site-packages/numpy/core/_methods.py:116: RuntimeWarning: overflow encountered in multiply\n",
      "  x = um.multiply(x, x, out=x)\n",
      "/Users/Jaime/anaconda3/lib/python3.6/site-packages/sklearn/metrics/pairwise.py:248: RuntimeWarning: invalid value encountered in add\n",
      "  distances += XX\n",
      "/Users/Jaime/anaconda3/lib/python3.6/site-packages/sklearn/metrics/pairwise.py:250: RuntimeWarning: invalid value encountered in maximum\n",
      "  np.maximum(distances, 0, out=distances)\n",
      "/Users/Jaime/anaconda3/lib/python3.6/site-packages/sklearn/cluster/k_means_.py:122: RuntimeWarning: invalid value encountered in minimum\n",
      "  distance_to_candidates[trial])\n",
      "/Users/Jaime/anaconda3/lib/python3.6/site-packages/sklearn/cluster/k_means_.py:400: RuntimeWarning: overflow encountered in square\n",
      "  max_iter=max_iter, verbose=verbose)\n",
      "/Users/Jaime/anaconda3/lib/python3.6/site-packages/sklearn/cluster/k_means_.py:400: RuntimeWarning: invalid value encountered in subtract\n",
      "  max_iter=max_iter, verbose=verbose)\n",
      "/Users/Jaime/anaconda3/lib/python3.6/site-packages/sklearn/cluster/k_means_.py:400: RuntimeWarning: invalid value encountered in maximum\n",
      "  max_iter=max_iter, verbose=verbose)\n",
      "/Users/Jaime/anaconda3/lib/python3.6/site-packages/sklearn/cluster/k_means_.py:401: RuntimeWarning: overflow encountered in square\n",
      "  inertia = np.sum((X - centers[labels]) ** 2, dtype=np.float64)\n",
      "/Users/Jaime/anaconda3/lib/python3.6/site-packages/sklearn/metrics/pairwise.py:366: RuntimeWarning: invalid value encountered in add\n",
      "  d_chunk += row_norms(X_chunk, squared=True)[:, np.newaxis]\n",
      "/Users/Jaime/anaconda3/lib/python3.6/site-packages/sklearn/metrics/pairwise.py:368: RuntimeWarning: invalid value encountered in maximum\n",
      "  np.maximum(d_chunk, 0, d_chunk)\n",
      "/Users/Jaime/anaconda3/lib/python3.6/site-packages/sklearn/metrics/pairwise.py:380: RuntimeWarning: invalid value encountered in greater\n",
      "  flags = values[chunk_x] > min_values\n"
     ]
    }
   ],
   "source": [
    "est = KMeans(4)  # K clusters\n",
    "est.fit(vector_noticias)\n",
    "y_kmeans = est.predict(vector_noticias)"
   ]
  },
  {
   "cell_type": "code",
   "execution_count": 199,
   "metadata": {},
   "outputs": [
    {
     "data": {
      "text/plain": [
       "KMeans(algorithm='auto', copy_x=True, init='k-means++', max_iter=300,\n",
       "    n_clusters=20, n_init=10, n_jobs=1, precompute_distances='auto',\n",
       "    random_state=None, tol=0.0001, verbose=0)"
      ]
     },
     "execution_count": 199,
     "metadata": {},
     "output_type": "execute_result"
    }
   ],
   "source": [
    "est"
   ]
  },
  {
   "cell_type": "code",
   "execution_count": 239,
   "metadata": {},
   "outputs": [
    {
     "data": {
      "text/plain": [
       "array([3, 3, 3, 3, 3, 3, 3, 3, 3, 3, 3, 3, 3, 3, 3, 3, 3, 3, 3, 3, 3, 3, 3,\n",
       "       3, 3, 0, 3, 3, 3, 0, 3, 3, 3, 3, 3, 3, 3, 3], dtype=int32)"
      ]
     },
     "execution_count": 239,
     "metadata": {},
     "output_type": "execute_result"
    }
   ],
   "source": [
    "y_kmeans"
   ]
  },
  {
   "cell_type": "code",
   "execution_count": 241,
   "metadata": {},
   "outputs": [
    {
     "data": {
      "text/plain": [
       "array([[ -3.74217051e+157,   2.06189011e+158,   2.63899851e+158,\n",
       "         -1.74367994e+158,   2.84322278e+158,   3.31367985e+158,\n",
       "         -9.14603444e+157,   3.81634071e+158,   2.22895545e+158,\n",
       "          1.35177801e+158,  -6.04286489e+156,   2.74365244e+157,\n",
       "         -1.73603146e+158,  -4.87957479e+158,  -2.76957873e+156,\n",
       "         -1.08004860e+158,  -6.11164207e+158,  -5.09960864e+158,\n",
       "          2.89676103e+158,  -2.43191549e+156,   1.80964960e+155,\n",
       "          7.37434181e+157,   6.01694746e+158,   2.79708187e+158,\n",
       "         -6.77266001e+157,  -2.34291371e+158,  -2.16278646e+157,\n",
       "         -2.95472311e+158,   1.39447035e+158,   1.91146665e+158,\n",
       "          2.86769408e+158,   5.15195794e+157,  -2.07705169e+158,\n",
       "          1.22619257e+158,   1.68988642e+158,  -3.83258741e+158,\n",
       "          1.59319984e+158,  -1.30704706e+158,   2.73261630e+158,\n",
       "         -6.89114086e+156,   1.24064737e+158,   3.12542956e+158,\n",
       "          3.50885545e+158,   1.90068757e+158,   1.13594434e+158,\n",
       "          2.53262906e+158,   3.11047099e+158,  -2.77677490e+158,\n",
       "          1.46647455e+158,   2.09697145e+158],\n",
       "       [ -7.11824161e+156,   4.51388538e+157,   5.73467581e+157,\n",
       "         -3.83477212e+157,   6.37596182e+157,   7.37233574e+157,\n",
       "         -1.98895639e+157,   8.24340793e+157,   4.89187710e+157,\n",
       "          3.21181624e+157,  -1.33879771e+156,   6.54127549e+156,\n",
       "         -3.71560938e+157,  -1.07708595e+158,  -8.32840124e+155,\n",
       "         -2.41729698e+157,  -1.33099289e+158,  -1.13198469e+158,\n",
       "          6.41336856e+157,  -4.02297065e+156,  -1.19872090e+156,\n",
       "          1.75172395e+157,   1.33119461e+158,   6.21431522e+157,\n",
       "         -1.32953581e+157,  -5.07357460e+157,  -7.88712365e+156,\n",
       "         -6.39619451e+157,   3.30614548e+157,   4.21910602e+157,\n",
       "          6.21565239e+157,   1.28806486e+157,  -4.76689159e+157,\n",
       "          2.66104300e+157,   3.68145486e+157,  -8.65338531e+157,\n",
       "          3.62634628e+157,  -2.96358030e+157,   5.92982223e+157,\n",
       "         -1.85167042e+155,   2.36729790e+157,   6.73942138e+157,\n",
       "          7.87531603e+157,   4.04632832e+157,   2.24014895e+157,\n",
       "          5.44961299e+157,   6.88528713e+157,  -5.91213328e+157,\n",
       "          3.29604035e+157,   4.60962665e+157],\n",
       "       [ -1.41490655e+159,   7.79004357e+159,   9.97084759e+159,\n",
       "         -6.58763606e+159,   1.07404869e+160,   1.25182601e+160,\n",
       "         -3.45560352e+159,   1.44196606e+160,   8.42111193e+159,\n",
       "          5.10463827e+159,  -2.28290068e+158,   1.03604665e+159,\n",
       "         -6.55976347e+159,  -1.84346756e+160,  -1.04411152e+158,\n",
       "         -4.08001173e+159,  -2.30911406e+160,  -1.92653144e+160,\n",
       "          1.09435582e+160,  -8.83898178e+157,   8.07538939e+156,\n",
       "          2.78473265e+159,   2.27312809e+160,   1.05667680e+160,\n",
       "         -2.56031544e+159,  -8.85233634e+159,  -8.13971731e+158,\n",
       "         -1.11639859e+160,   5.26592587e+159,   7.22138221e+159,\n",
       "          1.08350810e+160,   1.94486337e+159,  -7.84512749e+159,\n",
       "          4.63292132e+159,   6.38475386e+159,  -1.44772983e+160,\n",
       "          6.01789592e+159,  -4.93714303e+159,   1.03246437e+160,\n",
       "         -2.61678186e+158,   4.69078701e+159,   1.18092381e+160,\n",
       "          1.32548975e+160,   7.18214950e+159,   4.29418700e+159,\n",
       "          9.56949431e+159,   1.17509369e+160,  -1.04926233e+160,\n",
       "          5.53964288e+159,   7.92239523e+159],\n",
       "       [  0.00000000e+000,   0.00000000e+000,   0.00000000e+000,\n",
       "          0.00000000e+000,   0.00000000e+000,   0.00000000e+000,\n",
       "          0.00000000e+000,   0.00000000e+000,   0.00000000e+000,\n",
       "          0.00000000e+000,   0.00000000e+000,   0.00000000e+000,\n",
       "          0.00000000e+000,   0.00000000e+000,   0.00000000e+000,\n",
       "          0.00000000e+000,   0.00000000e+000,   0.00000000e+000,\n",
       "          0.00000000e+000,   0.00000000e+000,   0.00000000e+000,\n",
       "          0.00000000e+000,   0.00000000e+000,   0.00000000e+000,\n",
       "          0.00000000e+000,   0.00000000e+000,   0.00000000e+000,\n",
       "          0.00000000e+000,   0.00000000e+000,   0.00000000e+000,\n",
       "          0.00000000e+000,   0.00000000e+000,   0.00000000e+000,\n",
       "          0.00000000e+000,   0.00000000e+000,   0.00000000e+000,\n",
       "          0.00000000e+000,   0.00000000e+000,   0.00000000e+000,\n",
       "          0.00000000e+000,   0.00000000e+000,   0.00000000e+000,\n",
       "          0.00000000e+000,   0.00000000e+000,   0.00000000e+000,\n",
       "          0.00000000e+000,   0.00000000e+000,   0.00000000e+000,\n",
       "          0.00000000e+000,   0.00000000e+000]])"
      ]
     },
     "execution_count": 241,
     "metadata": {},
     "output_type": "execute_result"
    }
   ],
   "source": [
    "est.cluster_centers_"
   ]
  },
  {
   "cell_type": "code",
   "execution_count": null,
   "metadata": {
    "collapsed": true
   },
   "outputs": [],
   "source": []
  }
 ],
 "metadata": {
  "kernelspec": {
   "display_name": "Python 3",
   "language": "python",
   "name": "python3"
  },
  "language_info": {
   "codemirror_mode": {
    "name": "ipython",
    "version": 3
   },
   "file_extension": ".py",
   "mimetype": "text/x-python",
   "name": "python",
   "nbconvert_exporter": "python",
   "pygments_lexer": "ipython3",
   "version": "3.6.2"
  }
 },
 "nbformat": 4,
 "nbformat_minor": 2
}
