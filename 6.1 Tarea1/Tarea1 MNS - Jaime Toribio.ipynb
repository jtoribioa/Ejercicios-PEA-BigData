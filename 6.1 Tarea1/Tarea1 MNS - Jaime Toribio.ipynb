{
 "cells": [
  {
   "cell_type": "markdown",
   "metadata": {},
   "source": [
    "# Clasificador de Noticias"
   ]
  },
  {
   "cell_type": "markdown",
   "metadata": {},
   "source": [
    "## Tarea Metodos No Supervisados\n",
    "Nombre: Jaime Toribio"
   ]
  },
  {
   "cell_type": "code",
   "execution_count": 97,
   "metadata": {
    "collapsed": true
   },
   "outputs": [],
   "source": [
    "from urllib.request import FancyURLopener\n",
    "from bs4 import BeautifulSoup\n",
    "import pandas as pd\n",
    "import numpy as np"
   ]
  },
  {
   "cell_type": "markdown",
   "metadata": {},
   "source": [
    "# 1. Carga de datos"
   ]
  },
  {
   "cell_type": "markdown",
   "metadata": {},
   "source": [
    "Utilizare scrapping para obtener las noticias con las que vamos a entrenar el modelo. Podria barrer la web de El Comercio pero esta web se actualiza constantenmente. Para obtener un resultado reproducible utilizare una lista de links cuyo contenido servira para entrenar el modelo de clasificación."
   ]
  },
  {
   "cell_type": "code",
   "execution_count": 98,
   "metadata": {},
   "outputs": [
    {
     "name": "stderr",
     "output_type": "stream",
     "text": [
      "/Users/Jaime/anaconda3/lib/python3.6/site-packages/ipykernel_launcher.py:3: DeprecationWarning: MyOpener style of invoking requests is deprecated. Use newer urlopen functions/methods\n",
      "  This is separate from the ipykernel package so we can avoid doing imports until\n"
     ]
    }
   ],
   "source": [
    "class MyOpener(FancyURLopener):\n",
    "    version = 'Mozilla/5.0 (Windows; U; Windows NT 5.1; it; rv:1.8.1.11) Gecko/20071127 Firefox/2.0.0.11'\n",
    "myopener = MyOpener()"
   ]
  },
  {
   "cell_type": "code",
   "execution_count": 99,
   "metadata": {
    "collapsed": true
   },
   "outputs": [],
   "source": [
    "links = pd.read_csv('./Data/links noticias.txt')"
   ]
  },
  {
   "cell_type": "code",
   "execution_count": 100,
   "metadata": {},
   "outputs": [
    {
     "data": {
      "text/html": [
       "<div>\n",
       "<style>\n",
       "    .dataframe thead tr:only-child th {\n",
       "        text-align: right;\n",
       "    }\n",
       "\n",
       "    .dataframe thead th {\n",
       "        text-align: left;\n",
       "    }\n",
       "\n",
       "    .dataframe tbody tr th {\n",
       "        vertical-align: top;\n",
       "    }\n",
       "</style>\n",
       "<table border=\"1\" class=\"dataframe\">\n",
       "  <thead>\n",
       "    <tr style=\"text-align: right;\">\n",
       "      <th></th>\n",
       "      <th>links</th>\n",
       "    </tr>\n",
       "  </thead>\n",
       "  <tbody>\n",
       "    <tr>\n",
       "      <th>0</th>\n",
       "      <td>https://elcomercio.pe/deporte-total/seleccion/...</td>\n",
       "    </tr>\n",
       "    <tr>\n",
       "      <th>1</th>\n",
       "      <td>https://elcomercio.pe/deporte-total/champions-...</td>\n",
       "    </tr>\n",
       "    <tr>\n",
       "      <th>2</th>\n",
       "      <td>https://elcomercio.pe/deporte-total/futbol-per...</td>\n",
       "    </tr>\n",
       "    <tr>\n",
       "      <th>3</th>\n",
       "      <td>https://elcomercio.pe/tecnologia/actualidad/fu...</td>\n",
       "    </tr>\n",
       "    <tr>\n",
       "      <th>4</th>\n",
       "      <td>https://elcomercio.pe/deporte-total/futbol-mun...</td>\n",
       "    </tr>\n",
       "  </tbody>\n",
       "</table>\n",
       "</div>"
      ],
      "text/plain": [
       "                                               links\n",
       "0  https://elcomercio.pe/deporte-total/seleccion/...\n",
       "1  https://elcomercio.pe/deporte-total/champions-...\n",
       "2  https://elcomercio.pe/deporte-total/futbol-per...\n",
       "3  https://elcomercio.pe/tecnologia/actualidad/fu...\n",
       "4  https://elcomercio.pe/deporte-total/futbol-mun..."
      ]
     },
     "execution_count": 100,
     "metadata": {},
     "output_type": "execute_result"
    }
   ],
   "source": [
    "links.head()"
   ]
  },
  {
   "cell_type": "code",
   "execution_count": 101,
   "metadata": {},
   "outputs": [
    {
     "data": {
      "text/plain": [
       "'https://elcomercio.pe/deporte-total/seleccion/paolo-guerrero-brasil-confian-juegue-final-copa-sudamericana-noticia-479074'"
      ]
     },
     "execution_count": 101,
     "metadata": {},
     "output_type": "execute_result"
    }
   ],
   "source": [
    "#validando la carga\n",
    "links['links'][0]"
   ]
  },
  {
   "cell_type": "code",
   "execution_count": 102,
   "metadata": {},
   "outputs": [
    {
     "data": {
      "text/plain": [
       "28"
      ]
     },
     "execution_count": 102,
     "metadata": {},
     "output_type": "execute_result"
    }
   ],
   "source": [
    "#Cantidad de links\n",
    "len(links)"
   ]
  },
  {
   "cell_type": "markdown",
   "metadata": {},
   "source": [
    "## Analizando la estructura del HTML:"
   ]
  },
  {
   "cell_type": "markdown",
   "metadata": {},
   "source": [
    "El contenido real de la noticia se encuentra en los siguientes elementos HTML (objeto-clase):\n",
    "\n",
    "1. Titulo: h1 news-title\n",
    "2. Resumen: h2 news-summary\n",
    "3. Descripción de la foto: p foto-description\n",
    "4. Contenido: p parrafo first-parrafo\n",
    "\n",
    "NOTA:El en caso del comercio antes de empezar el contenido de la noticia esta el nombre del autor, que en realidad viene a ser como una categoria. Por ejem: Deporte Total para deportes. No lo incluiré ya que podria sobreentrenarse el modelo.\n",
    "\n",
    "A continuación ejemplo para 1 link:"
   ]
  },
  {
   "cell_type": "code",
   "execution_count": 103,
   "metadata": {},
   "outputs": [
    {
     "name": "stdout",
     "output_type": "stream",
     "text": [
      "====================================================================================================\n"
     ]
    }
   ],
   "source": [
    "#conexion\n",
    "URL='https://elcomercio.pe/deporte-total/seleccion/paolo-guerrero-brasil-confian-juegue-final-copa-sudamericana-noticia-479074'\n",
    "html=myopener.open(URL).read()\n",
    "soup=BeautifulSoup(html,\"lxml\")\n",
    "\n",
    "print('='*100)"
   ]
  },
  {
   "cell_type": "code",
   "execution_count": 104,
   "metadata": {},
   "outputs": [
    {
     "data": {
      "text/plain": [
       "'Paolo Guerrero: confían en que juegue final de Sudamericana'"
      ]
     },
     "execution_count": 104,
     "metadata": {},
     "output_type": "execute_result"
    }
   ],
   "source": [
    "titulo=soup.find_all('h1',class_='news-title')\n",
    "titulo[0].get_text()"
   ]
  },
  {
   "cell_type": "code",
   "execution_count": 105,
   "metadata": {},
   "outputs": [
    {
     "data": {
      "text/plain": [
       "'A pesar de que la FIFA decidió extender por 10 días más la suspensión a Paolo Guerrero, en Brasil esperan que pueda estar con Flamengo en el partido de vuelta de la final de la Copa Sudamericana'"
      ]
     },
     "execution_count": 105,
     "metadata": {},
     "output_type": "execute_result"
    }
   ],
   "source": [
    "resumen=soup.find_all('h2',class_='news-summary')\n",
    "resumen[0].get_text()\n"
   ]
  },
  {
   "cell_type": "code",
   "execution_count": 106,
   "metadata": {},
   "outputs": [
    {
     "data": {
      "text/plain": [
       "'En Brasil esperan que Paolo Guerrero pueda llegar a jugar alguno de los dos partidos de la final de la Copa Sudamericana entre Flamengo e Independiente. (Foto: AP)'"
      ]
     },
     "execution_count": 106,
     "metadata": {},
     "output_type": "execute_result"
    }
   ],
   "source": [
    "foto_desc=soup.find_all('p',class_='foto-description')\n",
    "foto_desc[0].get_text()"
   ]
  },
  {
   "cell_type": "code",
   "execution_count": 107,
   "metadata": {},
   "outputs": [
    {
     "data": {
      "text/plain": [
       "'En Brasil todavía tienen esperanza de ver a Paolo Guerrero jugar con Flamengo antes de que acabe el año. A pesar de que la FIFA extendió por 10 días más la suspensión provisional al delantero de la selección peruana, el periodista de \"O\\'Globo\", Diogo Dantas, cree que es posible que el jugador llegue al segundo duelo de la final de la Copa Sudamericana contra Independiente de Avellaneda.\"Hay optimismo en Flamengo porque hay una final de Copa Sudamericana el próximo miércoles y todos cuentan con el retorno de Paolo Guerrero. Toda la situación en FIFA, sus abogados salieron muy optimistas. El hecho de no tener problemas con cocaína, el examen capilar, las pruebas son muy consistentes. Hay una posibilidad muy grande que la respuesta sea muy positiva\", afirmó el periodista brasileño a \"RPP\".Y agregó: \"Si un castigo ocurre, el máximo previsto aquí es de 60 días. Ya se cumplieron 30 días de sanción provisoria, volvería en 2018 para jugar la Copa Libertadores con Flamengo\".Como se recuerda, el partido de ida entre Flamengo e Independiente por la final de la Copa Sudamericana se jugará este miércoles en Argentina. Mientras que la vuelta se disputará el próximo 13 de diciembre en el Estadio Maracaná. Paolo Guerrero podría jugar el cotejo definitivo si la FIFA decide no sancionarlo.'"
      ]
     },
     "execution_count": 107,
     "metadata": {},
     "output_type": "execute_result"
    }
   ],
   "source": [
    "lista=soup.find_all('p',class_='parrafo first-parrafo')+soup.find_all('p',class_='parrafo first-parrafo ')\n",
    "contenido = ''\n",
    "for i in range(len(lista)):\n",
    "    contenido = contenido + lista[i].get_text()\n",
    "contenido"
   ]
  },
  {
   "cell_type": "markdown",
   "metadata": {},
   "source": [
    "## Guardando el contenido"
   ]
  },
  {
   "cell_type": "markdown",
   "metadata": {},
   "source": [
    "Vamos a barrer todos los links del archivo y guardarlos en distintos archivos. Uno por cada noticia. Para el entrenamiento del modelo concatenaré todos los archivos. El objetivo de tenerlos en distintos archivos es para luego poder hacer un vector promedio por cada archivo."
   ]
  },
  {
   "cell_type": "code",
   "execution_count": 108,
   "metadata": {},
   "outputs": [
    {
     "name": "stdout",
     "output_type": "stream",
     "text": [
      "https://elcomercio.pe/deporte-total/seleccion/paolo-guerrero-brasil-confian-juegue-final-copa-sudamericana-noticia-479074\n",
      "https://elcomercio.pe/deporte-total/champions-league/juventus-vs-olympiacos-vivo-online-grupo-d-champions-league-noticia-479058\n",
      "https://elcomercio.pe/deporte-total/futbol-peruano/alianza-lima-gustavo-zevallos-juntaremos-semana-pablo-bengoechea-noticia-479001\n",
      "https://elcomercio.pe/tecnologia/actualidad/futbol-peruano-club-mejor-hinchada-digital-noticia-479026\n",
      "https://elcomercio.pe/deporte-total/futbol-mundial/barcelona-vs-sporting-lisboa-vivo-online-champions-league-noticia-478842\n",
      "https://elcomercio.pe/deporte-total/futbol-peruano/alianza-lima-vs-real-garcilaso-frases-polemicas-fuera-canchas-noticia-478911\n",
      "https://elcomercio.pe/deporte-total/futbol-mundial/carlo-ancelotti-interesado-dirigir-italia-noticia-478943\n",
      "https://elcomercio.pe/deporte-total/polideportivo/wwe-monday-night-vivo-online-angeles-roman-reigns-vengara-samoa-joe-noticia-478782\n",
      "https://elcomercio.pe/deporte-total/polideportivo/wwe-roman-reigns-pudo-ayudar-the-shield-culpa-samoa-joe-video-noticia-479082\n",
      "https://elcomercio.pe/politica/odebrecht-iccgsa-considera-prision-preventiva-necesaria-noticia-479079\n",
      "https://elcomercio.pe/politica/odebrecht-trasladan-carceleta-socios-interoceanica-noticia-478794\n",
      "https://elcomercio.pe/politica/fiscal-luz-ibanez-elegida-jueza-corte-penal-internacional-noticia-479065\n",
      "https://elcomercio.pe/politica/juan-pari-prision-preventiva-senal-interesante-noticia-479007\n",
      "https://elcomercio.pe/politica/susana-villaran-tuve-encuentro-protocolar-representantes-odebrecht-noticia-478965\n",
      "https://elcomercio.pe/politica/luis-castaneda-seria-justo-me-pronuncie-susana-villaran-noticia-478974\n",
      "https://elcomercio.pe/politica/archivan-pesquisa-marisa-glave-indira-huilca-frase-violadores-noticia-478947\n",
      "https://elcomercio.pe/politica/luis-galarreta-saluda-prision-preventiva-ex-socios-odebrecht-noticia-478961\n",
      "https://elcomercio.pe/politica/odebrecht-juez-concepcion-descarta-haber-actuado-presion-politica-noticia-478869\n",
      "https://elcomercio.pe/tecnologia/inventos/youtube-primer-brazo-prostetico-inspirado-videojuego-video-noticia-478761\n",
      "https://elcomercio.pe/tecnologia/redes-sociales/cuatro-tipos-personalidades-facebook-noticia-478566\n",
      "https://elcomercio.pe/tecnologia/ciencias/lombrices-subsistir-marte-noticia-479024\n",
      "https://elcomercio.pe/tecnologia/ciencias/animales-aves-decisiones-inteligentes-estudio-noticia-479033\n",
      "https://elcomercio.pe/tecnologia/ciencias/animlaes-gorilas-aprender-habitos-limpieza-comer-noticia-479023\n",
      "https://elcomercio.pe/tecnologia/moviles/son-5-componentes-caros-celular-noticia-479008\n",
      "https://elcomercio.pe/tecnologia/moviles/youtube-moviles-guerra-celulares-motorola-burla-rivalidad-samsung-iphone-noticia-478770\n",
      "https://elcomercio.pe/tecnologia/ciencias/peruano-crea-procedimiento-reconstruccion-facial-protesis-3d-noticia-478995\n",
      "https://elcomercio.pe/tecnologia/actualidad/youtube-entrenan-carros-autonomos-rusia-supera-nieve-video-noticia-478594\n",
      "https://elcomercio.pe/tecnologia/redes-sociales/facebook-lanzo-messenger-kids-app-video-chat-ninos-noticia-478860\n"
     ]
    }
   ],
   "source": [
    "noticias = []\n",
    "for i in range(len(links)):\n",
    "    print(links['links'][i])\n",
    "    #abre conexion con la web\n",
    "    URL=links['links'][i]\n",
    "    html=myopener.open(URL).read()\n",
    "    soup=BeautifulSoup(html,\"lxml\")\n",
    "\n",
    "    #busca contenido de la noticia\n",
    "    t=soup.find_all('h1',class_='news-title')\n",
    "    r=soup.find_all('h2',class_='news-summary')\n",
    "    f=soup.find_all('p',class_='foto-description')\n",
    "    p=soup.find_all('p',class_='parrafo first-parrafo')+soup.find_all('p',class_='parrafo first-parrafo ')\n",
    "    \n",
    "    #algunas noticias no tienen resumen o descripcion de foto, por ello si no existe asignamos '' a la variable.\n",
    "    titulo = t[0].get_text() if len(t)>0 else ''\n",
    "    resumen = r[0].get_text() if len(r)>0 else ''\n",
    "    foto_desc = f[0].get_text() if len(f)>0 else ''\n",
    "    \n",
    "    contenido = ''\n",
    "    for i in range(len(p)):\n",
    "        contenido = contenido + p[i].get_text()\n",
    "    \n",
    "    #genera la noticia\n",
    "    noticia = [titulo,\n",
    "               resumen,\n",
    "               foto_desc,\n",
    "               contenido]\n",
    "    \n",
    "    #agrega a la lista de noticias\n",
    "    noticias.append(noticia)\n",
    "    \n",
    "\n",
    "df = pd.DataFrame(noticias, columns = ['titulo', 'resumen', 'foto_desc', 'contenido'])\n",
    "\n",
    "#guarda en un archivo delimitado por pipes |\n",
    "#np.savetxt('noticias.txt', df, fmt='%s', delimiter='|', header='titulo|resumen|foto_desc|contenido')\n",
    "    \n",
    "#Muchos problemas con el encoding, por mientras trabajare en memoria.\n",
    "#tuve que usar enconding para poder guardar pero luego para leer era complicado: titulo.encode('utf-8') \n",
    "    "
   ]
  },
  {
   "cell_type": "code",
   "execution_count": 109,
   "metadata": {},
   "outputs": [
    {
     "data": {
      "text/html": [
       "<div>\n",
       "<style>\n",
       "    .dataframe thead tr:only-child th {\n",
       "        text-align: right;\n",
       "    }\n",
       "\n",
       "    .dataframe thead th {\n",
       "        text-align: left;\n",
       "    }\n",
       "\n",
       "    .dataframe tbody tr th {\n",
       "        vertical-align: top;\n",
       "    }\n",
       "</style>\n",
       "<table border=\"1\" class=\"dataframe\">\n",
       "  <thead>\n",
       "    <tr style=\"text-align: right;\">\n",
       "      <th></th>\n",
       "      <th>titulo</th>\n",
       "      <th>resumen</th>\n",
       "      <th>foto_desc</th>\n",
       "      <th>contenido</th>\n",
       "    </tr>\n",
       "  </thead>\n",
       "  <tbody>\n",
       "    <tr>\n",
       "      <th>0</th>\n",
       "      <td>Paolo Guerrero: confían en que juegue final de...</td>\n",
       "      <td>A pesar de que la FIFA decidió extender por 10...</td>\n",
       "      <td>En Brasil esperan que Paolo Guerrero pueda lle...</td>\n",
       "      <td>En Brasil todavía tienen esperanza de ver a Pa...</td>\n",
       "    </tr>\n",
       "    <tr>\n",
       "      <th>1</th>\n",
       "      <td>Juventus ganó 2-0 a Olympiacos y pasó a octavo...</td>\n",
       "      <td>\\nJuventus logró su boleto a la siguiente inst...</td>\n",
       "      <td>Juventus logró su boleto a la siguiente instan...</td>\n",
       "      <td>La Juventus se clasificó para los octavos de f...</td>\n",
       "    </tr>\n",
       "    <tr>\n",
       "      <th>2</th>\n",
       "      <td>Alianza Lima: \"Nos juntaremos esta semana con ...</td>\n",
       "      <td>El gerente deportivo de Alianza Lima, Gustavo ...</td>\n",
       "      <td>En Alianza Lima confían en retener a Pablo Ben...</td>\n",
       "      <td>Gustavo Zevallos, gerente deportivo de Alianza...</td>\n",
       "    </tr>\n",
       "    <tr>\n",
       "      <th>3</th>\n",
       "      <td>¿Qué equipo peruano tiene la mejor hinchada en...</td>\n",
       "      <td>La interacción en redes social como Facebook y...</td>\n",
       "      <td>Los clubes peruanos dan sus últimas noticias m...</td>\n",
       "      <td>Facebook, Instagram y Twitter se han vuelto un...</td>\n",
       "    </tr>\n",
       "    <tr>\n",
       "      <th>4</th>\n",
       "      <td>Barcelona ganó 2-0 a Sporting de Lisboa por Ch...</td>\n",
       "      <td>\\nBarcelona, que alineó varios suplentes y dej...</td>\n",
       "      <td>Barcelona ganó al Sporting de Lisboa con un go...</td>\n",
       "      <td>Barcelona se deshizo sin problemas (2-0) de un...</td>\n",
       "    </tr>\n",
       "  </tbody>\n",
       "</table>\n",
       "</div>"
      ],
      "text/plain": [
       "                                              titulo  \\\n",
       "0  Paolo Guerrero: confían en que juegue final de...   \n",
       "1  Juventus ganó 2-0 a Olympiacos y pasó a octavo...   \n",
       "2  Alianza Lima: \"Nos juntaremos esta semana con ...   \n",
       "3  ¿Qué equipo peruano tiene la mejor hinchada en...   \n",
       "4  Barcelona ganó 2-0 a Sporting de Lisboa por Ch...   \n",
       "\n",
       "                                             resumen  \\\n",
       "0  A pesar de que la FIFA decidió extender por 10...   \n",
       "1  \\nJuventus logró su boleto a la siguiente inst...   \n",
       "2  El gerente deportivo de Alianza Lima, Gustavo ...   \n",
       "3  La interacción en redes social como Facebook y...   \n",
       "4  \\nBarcelona, que alineó varios suplentes y dej...   \n",
       "\n",
       "                                           foto_desc  \\\n",
       "0  En Brasil esperan que Paolo Guerrero pueda lle...   \n",
       "1  Juventus logró su boleto a la siguiente instan...   \n",
       "2  En Alianza Lima confían en retener a Pablo Ben...   \n",
       "3  Los clubes peruanos dan sus últimas noticias m...   \n",
       "4  Barcelona ganó al Sporting de Lisboa con un go...   \n",
       "\n",
       "                                           contenido  \n",
       "0  En Brasil todavía tienen esperanza de ver a Pa...  \n",
       "1  La Juventus se clasificó para los octavos de f...  \n",
       "2  Gustavo Zevallos, gerente deportivo de Alianza...  \n",
       "3  Facebook, Instagram y Twitter se han vuelto un...  \n",
       "4  Barcelona se deshizo sin problemas (2-0) de un...  "
      ]
     },
     "execution_count": 109,
     "metadata": {},
     "output_type": "execute_result"
    }
   ],
   "source": [
    "df.head()"
   ]
  },
  {
   "cell_type": "code",
   "execution_count": 110,
   "metadata": {
    "collapsed": true
   },
   "outputs": [],
   "source": [
    "#noticias_load = pd.read_csv('noticias.txt', delimiter = '|', encoding='utf-8')\n",
    "#noticias_load"
   ]
  },
  {
   "cell_type": "markdown",
   "metadata": {},
   "source": [
    "# 2. Entrenando el modelo word2vec"
   ]
  },
  {
   "cell_type": "code",
   "execution_count": 111,
   "metadata": {
    "collapsed": true
   },
   "outputs": [],
   "source": [
    "from gensim.models import word2vec"
   ]
  },
  {
   "cell_type": "code",
   "execution_count": 112,
   "metadata": {
    "collapsed": true
   },
   "outputs": [],
   "source": [
    "#sentences = word2vec.Text8Corpus('./Data/links noticias.txt')"
   ]
  },
  {
   "cell_type": "code",
   "execution_count": 124,
   "metadata": {
    "collapsed": true
   },
   "outputs": [],
   "source": [
    "dimensiones = 4\n",
    "modelo = word2vec.Word2Vec([s.lower().split() for s in df['contenido']],size=dimensiones,min_count=3,)"
   ]
  },
  {
   "cell_type": "code",
   "execution_count": 125,
   "metadata": {
    "scrolled": true
   },
   "outputs": [
    {
     "name": "stdout",
     "output_type": "stream",
     "text": [
      "en\n",
      "todavía\n",
      "tienen\n",
      "de\n",
      "ver\n",
      "a\n",
      "paolo\n",
      "jugar\n",
      "con\n",
      "flamengo\n",
      "antes\n",
      "que\n",
      "el\n",
      "la\n",
      "por\n",
      "10\n",
      "días\n",
      "más\n",
      "al\n",
      "es\n",
      "posible\n",
      "segundo\n",
      "final\n",
      "copa\n",
      "sudamericana\n",
      "contra\n",
      "independiente\n",
      "porque\n",
      "hay\n",
      "una\n",
      "próximo\n",
      "y\n",
      "todos\n",
      "toda\n",
      "sus\n",
      "muy\n",
      "hecho\n",
      "no\n",
      "tener\n",
      "problemas\n",
      "las\n",
      "pruebas\n",
      "son\n",
      "respuesta\n",
      "sea\n",
      "afirmó\n",
      "brasileño\n",
      "\"si\n",
      "un\n",
      "aquí\n",
      "ya\n",
      "se\n",
      "2018\n",
      "para\n",
      "partido\n",
      "entre\n",
      "e\n",
      "este\n",
      "mientras\n",
      "podría\n",
      "si\n",
      "juventus\n",
      "los\n",
      "octavos\n",
      "champions\n",
      "league\n",
      "tras\n",
      "olympiacos\n",
      "del\n",
      "grupo\n",
      "sporting\n",
      "goles\n",
      "fueron\n",
      "juan\n",
      "su\n",
      "lo\n",
      "cual\n",
      "le\n",
      "portugal\n",
      "esa\n",
      "equipo\n",
      "italiano\n",
      "fue\n",
      "primer\n",
      "disparo\n",
      "centro\n",
      "desde\n",
      "área\n",
      "gol\n",
      "aún\n",
      "vio\n",
      "rechazó\n",
      "líneas\n",
      "volvió\n",
      "mano\n",
      "frente\n",
      "empate\n",
      "real\n",
      "última\n",
      "esta\n",
      "temporada,\n",
      "será\n",
      "pase\n",
      "como\n",
      "uno\n",
      "solo\n",
      "vs.\n",
      "-\n",
      "2:45\n",
      "p.m.\n",
      "4:45\n",
      "o\n",
      "tres\n",
      "puntos\n",
      "barcelona\n",
      "camp\n",
      "debido\n",
      "lista\n",
      "técnico\n",
      "sí\n",
      "está\n",
      "problema\n",
      "mediante\n",
      "gustavo\n",
      "gerente\n",
      "deportivo\n",
      "alianza\n",
      "lima,\n",
      "aseguró\n",
      "pablo\n",
      "tema\n",
      "próxima\n",
      "entrenador\n",
      "mucho\n",
      "valor\n",
      "duda\n",
      "nos\n",
      "acuerdo\n",
      "semana\n",
      "ese\n",
      "dijo\n",
      "lima\n",
      "zevallos\n",
      "pero\n",
      "resultados\n",
      "sino\n",
      "todo\n",
      "jugadores\n",
      "cómo\n",
      "va\n",
      "gran\n",
      "otro\n",
      "momento\n",
      "versión\n",
      "ello\n",
      "llegar\n",
      "después\n",
      "veremos\n",
      "qué\n",
      "hacer\n",
      "cada\n",
      "buen\n",
      "también\n",
      "teniendo\n",
      "garcilaso\n",
      "cristal\n",
      "mejor\n",
      "victoria\n",
      "ante\n",
      "hoy\n",
      "facebook,\n",
      "han\n",
      "vuelto\n",
      "nuevo\n",
      "espacio\n",
      "hinchas\n",
      "clubes\n",
      "mundo\n",
      "perú\n",
      "están\n",
      "bien\n",
      "primeros\n",
      "éxito\n",
      "redes\n",
      "material\n",
      "fotos\n",
      "hasta\n",
      "videos\n",
      "ello,\n",
      "análisis\n",
      "conocer\n",
      "peruano\n",
      "tiene\n",
      "estudio\n",
      "facebook\n",
      "primera\n",
      "3\n",
      "compromiso\n",
      "(con\n",
      "peso\n",
      "número\n",
      "publicaciones\n",
      "seguidores\n",
      "enero\n",
      "logrado\n",
      "sociales\n",
      "lugar\n",
      "factor\n",
      "sobre\n",
      "viene\n",
      "haciendo\n",
      "mayor\n",
      "interacción\n",
      "mil\n",
      "sin\n",
      "explica\n",
      "importante\n",
      "canal\n",
      "lisboa\n",
      "tuvo\n",
      "hizo\n",
      "sólo\n",
      "necesitaba\n",
      "campo\n",
      "triunfo\n",
      "había\n",
      "estuvo\n",
      "obstante,\n",
      "denis\n",
      "suárez\n",
      "ernesto\n",
      "eje\n",
      "andré\n",
      "control\n",
      "partido,\n",
      "aunque\n",
      "aleix\n",
      "vidal,\n",
      "luis\n",
      "paco\n",
      "alcácer\n",
      "estuvieron\n",
      "nada\n",
      "rui\n",
      "triunfo,\n",
      "bruno\n",
      "oportunidades\n",
      "balón\n",
      "vidal\n",
      "poco\n",
      "uruguayo\n",
      "línea\n",
      "suárez,\n",
      "salió\n",
      "algo\n",
      "acción\n",
      "acabó\n",
      "intención\n",
      "patricio\n",
      "otra\n",
      "dos\n",
      "dar\n",
      "tanto,\n",
      "messi\n",
      "además,\n",
      "bas\n",
      "argentino\n",
      "ser\n",
      "suelo\n",
      "recibió\n",
      "mathieu,\n",
      "caso\n",
      "portugués\n",
      "tanto\n",
      "liga\n",
      "espera\n",
      "presenta\n",
      "cuando\n",
      "ha\n",
      "participación\n",
      "donde\n",
      "propia\n",
      "siempre\n",
      "último\n",
      "nou\n",
      "pasado\n",
      "sorpresa\n",
      "jorge\n",
      "referencia\n",
      "ataque\n",
      "rival\n",
      "ahora\n",
      "quien\n",
      "haber\n",
      "cuenta\n",
      "internacional\n",
      "ex\n",
      "hace\n",
      "estos\n",
      "sido\n",
      "base\n",
      "mayores\n",
      "guerra\n",
      "pelea\n",
      "debe\n",
      "pues\n",
      "esto\n",
      "respondió\n",
      "puesto\n",
      "me\n",
      "era\n",
      "presidente\n",
      "creo\n",
      "país\n",
      "nivel\n",
      "wwe\n",
      "raw\n",
      "integrantes\n",
      "the\n",
      "shield.\n",
      "roman\n",
      "reigns,\n",
      "seth\n",
      "rollins\n",
      "dean\n",
      "ambrose\n",
      "samoa\n",
      "reigns\n",
      "'emperador'\n",
      "jason\n",
      "joe,\n",
      "bajo\n",
      "general\n",
      "embargo,\n",
      "joe\n",
      "kurt\n",
      "otros\n",
      "campeones\n",
      "cesaro\n",
      "sheamus,\n",
      "durante\n",
      "momento,\n",
      "apareció\n",
      "decidió\n",
      "aparición\n",
      "ayudar\n",
      "vino\n",
      "quienes\n",
      "habían\n",
      "siendo\n",
      "marca\n",
      "nueva\n",
      "compañía\n",
      "puede\n",
      "evento\n",
      "contratistas\n",
      "generales\n",
      "lunes\n",
      "prisión\n",
      "preventiva\n",
      "18\n",
      "meses\n",
      "fernando\n",
      "castillo\n",
      "ejecutivo\n",
      "parte\n",
      "investigaciones\n",
      "hacen\n",
      "tramos\n",
      "2\n",
      "carretera\n",
      "interoceánica\n",
      "odebrecht\n",
      "empresa\n",
      "consideró\n",
      "poder\n",
      "elementos\n",
      "ministerio\n",
      "determinar\n",
      "través\n",
      "ni\n",
      "proyecto\n",
      "cualquier\n",
      "representantes\n",
      "algún\n",
      "dibós\n",
      "directorio\n",
      "lunes,\n",
      "según\n",
      "publicado\n",
      "valores\n",
      "alejandro\n",
      "graña\n",
      "miró\n",
      "quesada\n",
      "(ex\n",
      "montero),\n",
      "hernando\n",
      "acuña\n",
      "director\n",
      "martín\n",
      "gonzalo\n",
      "camet\n",
      "piccone\n",
      "(presidente\n",
      "jj\n",
      "s.a.)\n",
      "josé\n",
      "(director\n",
      "madrugada\n",
      "luego\n",
      "judicial\n",
      "cuatro\n",
      "cinco\n",
      "empresarios\n",
      "les\n",
      "activos.\n",
      "delito\n",
      "política...\n",
      "audiencia\n",
      "penal\n",
      "juez\n",
      "richard\n",
      "concepción\n",
      "carhuancho\n",
      "pedido\n",
      "fiscal\n",
      "público\n",
      "ferraro\n",
      "arresto\n",
      "domiciliario\n",
      "clínica\n",
      "corte\n",
      "años\n",
      "sede\n",
      "trata\n",
      "vez\n",
      "relaciones\n",
      "estados\n",
      "mi\n",
      "estado\n",
      "profesionales\n",
      "ella\n",
      "humanos\n",
      "así\n",
      "campaña\n",
      "partes\n",
      "personas\n",
      "comisión\n",
      "lava\n",
      "decisión\n",
      "directivos\n",
      "empresas\n",
      "decir\n",
      "nación,\n",
      "haya\n",
      "[...]\n",
      "sistema\n",
      "muchas\n",
      "y,\n",
      "alcaldesa\n",
      "susana\n",
      "villarán\n",
      "informe\n",
      "ve\n",
      "oas\n",
      "congreso\n",
      "firma\n",
      "millones\n",
      "conocimiento\n",
      "estas\n",
      "dictó\n",
      "eso\n",
      "declaraciones\n",
      "imágenes\n",
      "observa\n",
      "respecto\n",
      "presente\n",
      "investigación\n",
      "congresistas\n",
      "marisa\n",
      "glave\n",
      "indira\n",
      "tendencia\n",
      "realizar\n",
      "resaltó\n",
      "huilca\n",
      "problemática\n",
      "frase\n",
      "fujimorista\n",
      "salazar\n",
      "criticó\n",
      "algunas\n",
      "pueden\n",
      "político\n",
      "que,\n",
      "tan\n",
      "tipo\n",
      "compleja\n",
      "duración\n",
      "manera\n",
      "“deus\n",
      "prótesis\n",
      "forma\n",
      "otras\n",
      "nuestros\n",
      "ciencia\n",
      "red\n",
      "social\n",
      "usuarios\n",
      "unidos\n",
      "gusta\n",
      "investigadores\n",
      "categorías\n",
      "hecho,\n",
      "personalidad\n",
      "vida\n",
      "sean\n",
      "lópez\n",
      "estudio,\n",
      "tal\n",
      "amigos\n",
      "información\n",
      "ellos\n",
      "clave\n",
      "noticias\n",
      "comportamientos\n",
      "frecuencia\n",
      "menos\n",
      "tecnología\n",
      "en...\n",
      "componentes\n",
      "científicos\n",
      "tierra\n",
      "universidad\n",
      "condiciones\n",
      "proceso\n",
      "animales\n",
      "desarrollo\n",
      "palomas\n",
      "aves\n",
      "capaces\n",
      "primates\n",
      "pantalla\n",
      "sugiere\n",
      "gorilas\n",
      "capacidad\n",
      "trabajo,\n",
      "aprendizaje\n",
      "móviles\n",
      "elemento\n",
      "caro\n",
      "precio\n",
      "modelos\n",
      "móvil\n",
      "autónomos\n",
      "nieve\n",
      "niños\n",
      "messenger\n",
      "kids\n",
      "protección\n"
     ]
    }
   ],
   "source": [
    "for i in modelo.wv.vocab:\n",
    "    print(i)"
   ]
  },
  {
   "cell_type": "code",
   "execution_count": 115,
   "metadata": {},
   "outputs": [
    {
     "data": {
      "text/plain": [
       "array([-0.10280798,  0.15010135, -0.21695147,  0.18457127,  0.02758516,\n",
       "       -0.02698358,  0.01007572, -0.03469809,  0.33619612, -0.27521384], dtype=float32)"
      ]
     },
     "execution_count": 115,
     "metadata": {},
     "output_type": "execute_result"
    }
   ],
   "source": [
    "modelo[\"durante\"]"
   ]
  },
  {
   "cell_type": "code",
   "execution_count": 116,
   "metadata": {},
   "outputs": [
    {
     "data": {
      "text/plain": [
       "561"
      ]
     },
     "execution_count": 116,
     "metadata": {},
     "output_type": "execute_result"
    }
   ],
   "source": [
    "len(modelo.wv.vocab)"
   ]
  },
  {
   "cell_type": "markdown",
   "metadata": {},
   "source": [
    "Creamos el vector promedio por noticia:\n",
    "1. Vamos a barrer cada registro del data frame.\n",
    "2. Cada noticia la spliteo para luego hacer un barrido palabra por palabra.\n",
    "3. Dentro del barrido voy preguntando si la palabra esta en mi modelo, sumarizo el vector de la palabra al un vector temporal (**vector**).\n",
    "4. Luego divido el vector temporal entre el total de palabras que si estaban en el modelo (**contador_palabras**), lo que vendria a ser el vector promedio de la noticia (**vector**). "
   ]
  },
  {
   "cell_type": "code",
   "execution_count": 126,
   "metadata": {},
   "outputs": [
    {
     "data": {
      "text/plain": [
       "28"
      ]
     },
     "execution_count": 126,
     "metadata": {},
     "output_type": "execute_result"
    }
   ],
   "source": [
    "vector_noticias = []\n",
    "for i in range(len(df)):\n",
    "    lista = df['contenido'][i].split()\n",
    "    contador_palabras=0\n",
    "    vector = [0 for x in range(dimensiones)]\n",
    "    for j in range(len(lista)):\n",
    "        if lista[j] in modelo.wv.vocab:\n",
    "            contador_palabras+=1\n",
    "            vector+=modelo[lista[j]]\n",
    "    vector = vector/contador_palabras if contador_palabras>0 else vector\n",
    "    vector_noticias.append(vector)\n",
    "#Cantidad de vectores\n",
    "len(vector_noticias)"
   ]
  },
  {
   "cell_type": "code",
   "execution_count": 118,
   "metadata": {},
   "outputs": [
    {
     "data": {
      "text/plain": [
       "[array([-0.53042482,  0.72809201, -1.03324797,  0.75877336,  0.02073504,\n",
       "         0.08939737,  0.07367809, -0.07287226,  1.5184994 , -1.23510761]),\n",
       " array([-0.47912545,  0.65328593, -0.92884302,  0.68361388,  0.01462392,\n",
       "         0.08042498,  0.07147622, -0.05661755,  1.36563386, -1.10677508]),\n",
       " array([-0.49527771,  0.67823119, -0.95973039,  0.71364105,  0.01520994,\n",
       "         0.08374605,  0.0720825 , -0.0607768 ,  1.41994446, -1.15072503]),\n",
       " array([-0.45385094,  0.62295863, -0.88408032,  0.65334099,  0.012381  ,\n",
       "         0.07839275,  0.06816866, -0.05555999,  1.29882777, -1.05881598]),\n",
       " array([-0.52709094,  0.71759286, -1.01728411,  0.75649892,  0.01906994,\n",
       "         0.08920751,  0.07549504, -0.06719987,  1.50114369, -1.21880951]),\n",
       " array([-0.51713682,  0.71479428, -1.0117058 ,  0.75068305,  0.0151371 ,\n",
       "         0.08981441,  0.07778648, -0.05837991,  1.49339561, -1.21539964]),\n",
       " array([-0.56328304,  0.76868482, -1.08796405,  0.80900589,  0.01301383,\n",
       "         0.09502543,  0.07895377, -0.07675807,  1.61033731, -1.30835618]),\n",
       " array([-0.47826532,  0.658864  , -0.93161928,  0.69249712,  0.00927154,\n",
       "         0.07964899,  0.06893007, -0.05668708,  1.3719001 , -1.11758481]),\n",
       " array([-0.41475724,  0.57810303, -0.81545313,  0.60971874,  0.00316074,\n",
       "         0.06864683,  0.06327141, -0.04115634,  1.20058915, -0.97983392]),\n",
       " array([-0.52174406,  0.70986926, -1.00549668,  0.74528091,  0.01198933,\n",
       "         0.08755751,  0.07038514, -0.06638999,  1.48698373, -1.20477678]),\n",
       " array([-0.50913465,  0.6898158 , -0.97557942,  0.7271703 ,  0.0113884 ,\n",
       "         0.08245869,  0.06603656, -0.06275815,  1.44286321, -1.16691595]),\n",
       " array([-0.60423084,  0.82121057, -1.16130416,  0.86149547,  0.02034908,\n",
       "         0.10264681,  0.08245393, -0.08231123,  1.71936641, -1.399972  ]),\n",
       " array([-0.52662411,  0.7163341 , -1.0172675 ,  0.74933638,  0.01232318,\n",
       "         0.08468538,  0.07677815, -0.06461787,  1.49599411, -1.21678512]),\n",
       " array([-0.59013468,  0.79845465, -1.12861328,  0.83948875,  0.01866798,\n",
       "         0.09312799,  0.08102088, -0.07841036,  1.67271349, -1.35016034]),\n",
       " array([-0.54042785,  0.73604281, -1.04186902,  0.77236416,  0.01441611,\n",
       "         0.08721442,  0.07420386, -0.06563593,  1.53309533, -1.24466938]),\n",
       " array([-0.54010203,  0.7395725 , -1.04734174,  0.76759121,  0.0163226 ,\n",
       "         0.08905085,  0.07561612, -0.07161525,  1.53527049, -1.24675739]),\n",
       " array([-0.50318716,  0.68904065, -0.97357427,  0.72093031,  0.01226666,\n",
       "         0.08500488,  0.07137396, -0.05713873,  1.43927036, -1.1661524 ]),\n",
       " array([-0.52260084,  0.70720727, -1.00594048,  0.74964115,  0.01181963,\n",
       "         0.08577969,  0.07090253, -0.06773349,  1.48980703, -1.20630911]),\n",
       " array([-0.57041146,  0.77330017, -1.09322734,  0.81459364,  0.01838195,\n",
       "         0.09138082,  0.07695753, -0.07093812,  1.61779596, -1.30817349]),\n",
       " array([-0.48133004,  0.65989819, -0.93532134,  0.69244694,  0.01341446,\n",
       "         0.07809988,  0.06914652, -0.06035258,  1.37952116, -1.11828077]),\n",
       " array([-0.51987797,  0.71810773, -1.01126205,  0.75465264,  0.0129693 ,\n",
       "         0.09254241,  0.07201479, -0.06902609,  1.49678453, -1.21802783]),\n",
       " array([-0.47881453,  0.65191627, -0.92075582,  0.68552046,  0.01589644,\n",
       "         0.07936233,  0.06681177, -0.05893232,  1.36255336, -1.10727201]),\n",
       " array([-0.53107909,  0.71630708, -1.0166196 ,  0.75340306,  0.01310867,\n",
       "         0.0859689 ,  0.07129104, -0.07158566,  1.49887313, -1.21740277]),\n",
       " array([-0.49348703,  0.68067456, -0.9635051 ,  0.71201805,  0.0160674 ,\n",
       "         0.08518457,  0.07497155, -0.05880759,  1.42081764, -1.15519805]),\n",
       " array([-0.53748117,  0.73471203, -1.04228051,  0.77077761,  0.01432782,\n",
       "         0.0889366 ,  0.07657888, -0.06533123,  1.5345016 , -1.24569322]),\n",
       " array([-0.55069401,  0.75535337, -1.0693252 ,  0.79133584,  0.01846478,\n",
       "         0.0897797 ,  0.08014972, -0.06950826,  1.58158349, -1.28401163]),\n",
       " array([-0.45527273,  0.62450738, -0.89194437,  0.6564486 ,  0.01780107,\n",
       "         0.07815069,  0.06197188, -0.05698614,  1.30879417, -1.06905326]),\n",
       " array([-0.57683896,  0.78635682, -1.114902  ,  0.82996166,  0.01491194,\n",
       "         0.09558779,  0.07850468, -0.07191864,  1.64885986, -1.33840687])]"
      ]
     },
     "execution_count": 118,
     "metadata": {},
     "output_type": "execute_result"
    }
   ],
   "source": [
    "vector_noticias"
   ]
  },
  {
   "cell_type": "markdown",
   "metadata": {},
   "source": [
    "# Entrenando el modelo de Kmeans"
   ]
  },
  {
   "cell_type": "markdown",
   "metadata": {},
   "source": [
    "Vamos a entrenar un modelo kmeans que agrupe las 38 noticias en 4 categorias"
   ]
  },
  {
   "cell_type": "code",
   "execution_count": 119,
   "metadata": {
    "collapsed": true
   },
   "outputs": [],
   "source": [
    "from sklearn.cluster import KMeans\n"
   ]
  },
  {
   "cell_type": "code",
   "execution_count": 127,
   "metadata": {},
   "outputs": [],
   "source": [
    "est = KMeans(4)  # K clusters\n",
    "est.fit(vector_noticias)\n",
    "y_kmeans = est.predict(vector_noticias)"
   ]
  },
  {
   "cell_type": "code",
   "execution_count": 128,
   "metadata": {},
   "outputs": [
    {
     "data": {
      "text/plain": [
       "KMeans(algorithm='auto', copy_x=True, init='k-means++', max_iter=300,\n",
       "    n_clusters=4, n_init=10, n_jobs=1, precompute_distances='auto',\n",
       "    random_state=None, tol=0.0001, verbose=0)"
      ]
     },
     "execution_count": 128,
     "metadata": {},
     "output_type": "execute_result"
    }
   ],
   "source": [
    "est"
   ]
  },
  {
   "cell_type": "code",
   "execution_count": 129,
   "metadata": {},
   "outputs": [
    {
     "data": {
      "text/plain": [
       "array([0, 3, 3, 1, 0, 0, 2, 3, 1, 0, 3, 2, 0, 2, 0, 0, 3, 0, 2, 3, 0, 3, 0,\n",
       "       3, 0, 0, 1, 2], dtype=int32)"
      ]
     },
     "execution_count": 129,
     "metadata": {},
     "output_type": "execute_result"
    }
   ],
   "source": [
    "y_kmeans"
   ]
  },
  {
   "cell_type": "code",
   "execution_count": 130,
   "metadata": {},
   "outputs": [
    {
     "data": {
      "text/plain": [
       "array([[-0.88483057,  1.20123778, -1.69953745,  1.26726316],\n",
       "       [-0.73563369,  1.01317893, -1.43726064,  1.07281712],\n",
       "       [-0.97091284,  1.30838655, -1.8468985 ,  1.38670468],\n",
       "       [-0.81836575,  1.11403317, -1.57344204,  1.17633048]])"
      ]
     },
     "execution_count": 130,
     "metadata": {},
     "output_type": "execute_result"
    }
   ],
   "source": [
    "est.cluster_centers_"
   ]
  },
  {
   "cell_type": "code",
   "execution_count": null,
   "metadata": {
    "collapsed": true
   },
   "outputs": [],
   "source": []
  }
 ],
 "metadata": {
  "kernelspec": {
   "display_name": "Python 3",
   "language": "python",
   "name": "python3"
  },
  "language_info": {
   "codemirror_mode": {
    "name": "ipython",
    "version": 3
   },
   "file_extension": ".py",
   "mimetype": "text/x-python",
   "name": "python",
   "nbconvert_exporter": "python",
   "pygments_lexer": "ipython3",
   "version": "3.6.2"
  }
 },
 "nbformat": 4,
 "nbformat_minor": 2
}
